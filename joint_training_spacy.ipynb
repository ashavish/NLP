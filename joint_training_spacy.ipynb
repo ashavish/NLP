{
 "cells": [
  {
   "cell_type": "markdown",
   "metadata": {},
   "source": [
    "# Joint Training models for NER + Intent Classification\n",
    "\n"
   ]
  },
  {
   "cell_type": "markdown",
   "metadata": {},
   "source": [
    "### Load the data"
   ]
  },
  {
   "cell_type": "code",
   "execution_count": 1,
   "metadata": {},
   "outputs": [],
   "source": [
    "import matplotlib.pyplot as plt\n",
    "import numpy as np\n",
    "import pandas as pd\n",
    "import pickle\n",
    "import random\n",
    "import json\n",
    "from sklearn.model_selection import train_test_split\n",
    "import spacy\n"
   ]
  },
  {
   "cell_type": "code",
   "execution_count": 2,
   "metadata": {},
   "outputs": [],
   "source": [
    "\n",
    "class JsonData():\n",
    "    \"\"\"\n",
    "    Class for json data. Can be a subclass with an abstract call of Dataset\n",
    "    if there are more ways of ingesting data.\n",
    "    Json structure required is\n",
    "        {\n",
    "          \"name\": \"ChatSample\",\n",
    "          \"lang\": \"en\",\n",
    "          \"sentences\": [\n",
    "            {\n",
    "              \"text\": \"i want to go marienplatz\",\n",
    "              \"intent\": \"FindConnection\",\n",
    "              \"entities\": [\n",
    "                {\n",
    "                  \"entity\": \"StationDest\",\n",
    "                  \"start\": 4,\n",
    "                  \"stop\": 4,\n",
    "                  \"text\": \"marienplatz\"\n",
    "                }\n",
    "              ],\n",
    "              \"training\": false\n",
    "            },...\n",
    "        }\n",
    "    \"\"\"\n",
    "    def __init__(self,json_path,lang):\n",
    "        self.json_path = json_path\n",
    "        self.lang = lang\n",
    "    def load_data(self):\n",
    "        '''\n",
    "        loading can be chunked for bigger files\n",
    "        '''\n",
    "        try:\n",
    "            data = json.load(open(self.json_path,\"r\"))\n",
    "        except FileNotFoundError:\n",
    "            print(\"Wrong file or file path\")\n",
    "        return data\n",
    "    def parse_data(self,data):\n",
    "        '''\n",
    "        parse data for all labels. intents and entity labels\n",
    "        '''\n",
    "        check_keys(data,['lang','sentences'])\n",
    "        if data['lang'] != self.lang:\n",
    "            print('Required language {0} not present in file'.format(self.lang))\n",
    "            raise ValueError('Required language {0} not present in file'.format(self.lang))       \n",
    "        if len(data['sentences']) == 0:\n",
    "            print('Json file has no sentences')\n",
    "            raise ValueError('Json file has no sentences')\n",
    "        sents = [each['text'] for each in data['sentences']]\n",
    "        print(\"{0} sentences found\".format(str(len(sents))))\n",
    "        intent_labels = [each['intent'] for each in data['sentences']]\n",
    "        entity_labels = [each['entities'] for each in data['sentences']]\n",
    "        return sents,intent_labels,entity_labels\n",
    "    def get_data(self):\n",
    "        '''\n",
    "        All functions need to just call this function to get data either at one-shot or in chunks\n",
    "        Can implement chunking with a generator here if needed for bigger files\n",
    "        '''\n",
    "        data = self.load_data()\n",
    "        sentences_,intents_, entities_ = self.parse_data(data)\n",
    "        return sentences_, intents_,entities_\n",
    "\n"
   ]
  },
  {
   "cell_type": "code",
   "execution_count": 39,
   "metadata": {},
   "outputs": [
    {
     "name": "stdout",
     "output_type": "stream",
     "text": [
      "206 sentences found\n"
     ]
    }
   ],
   "source": [
    "json_data = JsonData(\"ChatbotCorpus.json\",\"en\")\n",
    "sentences, intents,entities = json_data.get_data()\n",
    "intent_pd = pd.DataFrame({'sent':sentences,'intent':intents})"
   ]
  },
  {
   "cell_type": "markdown",
   "metadata": {},
   "source": [
    "## Task - NER"
   ]
  },
  {
   "cell_type": "markdown",
   "metadata": {},
   "source": [
    "Converting the entity data to the format required for spacy ner training"
   ]
  },
  {
   "cell_type": "code",
   "execution_count": 51,
   "metadata": {},
   "outputs": [],
   "source": [
    "from spacy.attrs import ORTH\n",
    "\n",
    "nlp = spacy.load(\"en_core_web_md\")\n",
    "\n",
    "def generate_ner_train_annot(sentences,entities,intents):\n",
    "    '''\n",
    "    Generating the ner data in required format for spacy\n",
    "    '''\n",
    "    print(\"Starting spacy ner annotations..\")\n",
    "    case = [{ORTH: \"what\"}, {ORTH: \"'\"},{'ORTH':'s'}]\n",
    "    nlp.tokenizer.add_special_case(\"what's\", case)\n",
    "    unq_intents = list(set(intents))    \n",
    "    data_annotated = []\n",
    "    for i,sent in enumerate(sentences):\n",
    "        doc = nlp(sent)\n",
    "        tokens = [(token.text,token.idx) for token in doc]\n",
    "        label_intent = {label:False for label in unq_intents}\n",
    "        entities_list = []\n",
    "        for ent_tag in entities[i]:\n",
    "            start_char = tokens[int(ent_tag['start'])][1]\n",
    "            end_char = tokens[int(ent_tag['stop'])][1] + len(tokens[int(ent_tag['stop'])][0])\n",
    "            if not sentences[i][start_char:end_char] == ent_tag['text']:\n",
    "                logger.info(\"Entity tagged text not matching with position\")\n",
    "                logger.info(\"i: {0},sentence: {1},ent_tag: {2}\".format(str(i),\n",
    "                    str(sentences[i]),str(ent_tag)))\n",
    "            else:\n",
    "                entities_list.append((start_char,end_char,ent_tag['entity']))\n",
    "        intent = intents[i]\n",
    "        label_intent[intent] = True\n",
    "        sent_entities = (sentences[i],{\"entities\":entities_list},label_intent)\n",
    "        data_annotated.append(sent_entities)\n",
    "    print(\"Spacy annotations done for {} sentences\".format(len(sentences)))\n",
    "    return data_annotated"
   ]
  },
  {
   "cell_type": "code",
   "execution_count": 52,
   "metadata": {},
   "outputs": [
    {
     "name": "stdout",
     "output_type": "stream",
     "text": [
      "Starting spacy ner annotations..\n",
      "Spacy annotations done for 206 sentences\n"
     ]
    }
   ],
   "source": [
    "spacy_annot_data = generate_ner_train_annot(sentences,entities,intents)"
   ]
  },
  {
   "cell_type": "code",
   "execution_count": 53,
   "metadata": {},
   "outputs": [
    {
     "data": {
      "text/plain": [
       "[('i want to go marienplatz',\n",
       "  {'entities': [(13, 24, 'StationDest')]},\n",
       "  {'DepartureTime': False, 'FindConnection': True}),\n",
       " ('when is the next train in muncher freiheit?',\n",
       "  {'entities': [(17, 22, 'Vehicle'),\n",
       "    (12, 16, 'Criterion'),\n",
       "    (26, 42, 'StationStart')]},\n",
       "  {'DepartureTime': True, 'FindConnection': False})]"
      ]
     },
     "execution_count": 53,
     "metadata": {},
     "output_type": "execute_result"
    }
   ],
   "source": [
    "spacy_annot_data[:2]"
   ]
  },
  {
   "cell_type": "markdown",
   "metadata": {},
   "source": [
    "**Splitting into train and test**"
   ]
  },
  {
   "cell_type": "code",
   "execution_count": 54,
   "metadata": {},
   "outputs": [],
   "source": [
    "sentences_train,sentences_test,spacy_train_data,spacy_test_data = train_test_split(sentences,spacy_annot_data,test_size=0.2,random_state =42)"
   ]
  },
  {
   "cell_type": "markdown",
   "metadata": {},
   "source": [
    "# NER + Intent Training"
   ]
  },
  {
   "cell_type": "code",
   "execution_count": 150,
   "metadata": {},
   "outputs": [],
   "source": [
    "'''\n",
    "Modules for NER tagging\n",
    "'''\n",
    "# pylint: disable=no-member\n",
    "\n",
    "import sys\n",
    "import random\n",
    "import warnings\n",
    "import yaml\n",
    "import spacy\n",
    "from spacy.gold import GoldParse\n",
    "from spacy.scorer import Scorer\n",
    "from spacy.util import minibatch, compounding\n",
    "\n",
    "\n",
    "def spacy_model_with_ner_textcat(model=None):\n",
    "    '''\n",
    "    creates the spacy model.\n",
    "    '''\n",
    "    custom_nlp = spacy.blank('en')\n",
    "    ner = custom_nlp.create_pipe('ner')\n",
    "    custom_nlp.add_pipe(ner)\n",
    "    textcat = custom_nlp.create_pipe('textcat',config={\"exclusive_classes\": True})\n",
    "    custom_nlp.add_pipe(textcat)    \n",
    "    return custom_nlp,ner,textcat\n",
    "\n",
    "def add_entities_ner(annot_data,ner):\n",
    "    '''\n",
    "    Adds entities from annotation data to ner\n",
    "    '''\n",
    "    for _, annotations,cats in annot_data:\n",
    "        for ent in annotations.get(\"entities\"):\n",
    "            ner.add_label(ent[2])\n",
    "    return ner\n",
    "\n",
    "def add_labels_textcat(labels,textcat):\n",
    "    '''\n",
    "    Adds labels from text classification data to textcat\n",
    "    '''\n",
    "    for label in labels:\n",
    "        textcat.add_label(label)\n",
    "    return textcat\n",
    "\n",
    "def train_joint_model(custom_nlp,spacy_train_data,n_iter):\n",
    "    '''\n",
    "    Train spacy ner models\n",
    "    '''\n",
    "    pipe_exceptions = [\"ner\",\"textcat\", \"trf_wordpiecer\", \"trf_tok2vec\"]\n",
    "    other_pipes = [pipe for pipe in custom_nlp.pipe_names if pipe not in pipe_exceptions]\n",
    "\n",
    "    tot_loss = []\n",
    "\n",
    "    with custom_nlp.disable_pipes(*other_pipes), warnings.catch_warnings():\n",
    "        warnings.filterwarnings(\"once\", category=UserWarning, module='spacy')\n",
    "#         optimizer = nlp.begin_training(get_gold_tuples=lambda: spacy_train_data)\n",
    "        custom_nlp.begin_training()\n",
    "        for itn in range(n_iter):\n",
    "            random.shuffle(spacy_train_data)\n",
    "            losses = {}\n",
    "            # batch up the examples using spaCy's minibatch\n",
    "            batches = minibatch(spacy_train_data, size=compounding(4.0, 32.0, 1.001))\n",
    "            for batch in batches:\n",
    "                texts, annotations,cats = zip(*batch)\n",
    "                golds = [GoldParse(nlp.make_doc(text),entities=annotation['entities'],cats=cat) for text,annotation,cat in batch]\n",
    "                custom_nlp.update(\n",
    "                    texts,\n",
    "                    golds,\n",
    "                    drop=0.5,\n",
    "                    losses=losses,\n",
    "#                     sgd=optimizer\n",
    "                )\n",
    "            tot_loss.append(losses)\n",
    "            print(\"Losses {0} at iteration {1}\".format(str(losses),str(itn)))\n",
    "    return custom_nlp,tot_loss\n",
    "\n",
    "\n",
    "\n",
    "def save_ner_model(custom_nlp,model_path):\n",
    "    '''\n",
    "    saves a ner model as per config params\n",
    "    '''\n",
    "    try:\n",
    "        custom_nlp.to_disk(model_path)\n",
    "        print(\"Ner model saved to {}\".format(cfg['NER_MODEL_PATH']))\n",
    "    except Exception as err:\n",
    "        print((\"Error '{0}' occured. Arguments {1}.\".format(err)))\n",
    "\n",
    "def load_ner_model(model_path):\n",
    "    '''\n",
    "    loads a ner model as per config params\n",
    "    '''\n",
    "    custom_nlp = None\n",
    "    try:\n",
    "        custom_nlp = spacy.load(model_path)\n",
    "    except Exception as err:\n",
    "        print((\"Error '{0}' occured. Arguments {1}.\".format(err)))\n",
    "    return custom_nlp\n",
    "\n",
    "def evaluate_ner(ner_model, examples):\n",
    "    '''\n",
    "    evaluates an ner model\n",
    "    '''\n",
    "    scorer = Scorer()\n",
    "    for input_, annot,cat in examples:\n",
    "        doc_gold_text = ner_model.make_doc(input_)\n",
    "#         for key, value in cat.items():            \n",
    "#             cat[key] = int(value)\n",
    "        gold = GoldParse(doc_gold_text, entities=annot['entities'],cats=cat)\n",
    "        pred_value = ner_model(input_)\n",
    "        scorer.score(pred_value, gold)\n",
    "    return scorer.scores\n",
    "\n",
    "def evaluate_intent(tokenizer, textcat, texts, cats):\n",
    "    docs = (tokenizer(text) for text in texts)\n",
    "    tp = 0.0  # True positives\n",
    "    fp = 1e-8  # False positives\n",
    "    fn = 1e-8  # False negatives\n",
    "    tn = 0.0  # True negatives\n",
    "    for i, doc in enumerate(textcat.pipe(docs)):\n",
    "        gold = cats[i]\n",
    "        for label, score in doc.cats.items():\n",
    "            if label not in gold:\n",
    "                continue\n",
    "            if label == \"NEGATIVE\":\n",
    "                continue\n",
    "            if score >= 0.5 and gold[label] >= 0.5:\n",
    "                tp += 1.0\n",
    "            elif score >= 0.5 and gold[label] < 0.5:\n",
    "                fp += 1.0\n",
    "            elif score < 0.5 and gold[label] < 0.5:\n",
    "                tn += 1\n",
    "            elif score < 0.5 and gold[label] >= 0.5:\n",
    "                fn += 1\n",
    "    precision = tp / (tp + fp)\n",
    "    recall = tp / (tp + fn)\n",
    "    if (precision + recall) == 0:\n",
    "        f_score = 0.0\n",
    "    else:\n",
    "        f_score = 2 * (precision * recall) / (precision + recall)\n",
    "    return {\"textcat_p\": precision, \"textcat_r\": recall, \"textcat_f\": f_score}\n"
   ]
  },
  {
   "cell_type": "code",
   "execution_count": 151,
   "metadata": {},
   "outputs": [
    {
     "name": "stderr",
     "output_type": "stream",
     "text": [
      "/home/asha/env/lib/python3.6/site-packages/spacy/language.py:639: UserWarning: [W033] Training a new parser or NER using a model with an empty lexeme normalization table. This may degrade the performance to some degree. If this is intentional or this language doesn't have a normalization table, please ignore this warning.\n",
      "  **kwargs\n",
      "/home/asha/env/lib/python3.6/site-packages/spacy/language.py:639: UserWarning: [W034] Please install the package spacy-lookups-data in order to include the default lexeme normalization table for the language 'en'.\n",
      "  **kwargs\n"
     ]
    },
    {
     "name": "stdout",
     "output_type": "stream",
     "text": [
      "Losses {'textcat': 1.242647321894765, 'ner': 835.3436645269394} at iteration 0\n",
      "Losses {'ner': 510.08891558708274, 'textcat': 1.2387102916836739} at iteration 1\n",
      "Losses {'ner': 318.7146344915309, 'textcat': 1.002383892890066} at iteration 2\n",
      "Losses {'textcat': 0.7652321438072249, 'ner': 220.40093630845513} at iteration 3\n",
      "Losses {'textcat': 0.3292663311967772, 'ner': 223.8950669883751} at iteration 4\n",
      "Losses {'textcat': 0.3066870829702921, 'ner': 176.31464399100494} at iteration 5\n",
      "Losses {'textcat': 0.3404603526870773, 'ner': 162.5315983135224} at iteration 6\n",
      "Losses {'textcat': 0.12586515767202666, 'ner': 145.15318636866047} at iteration 7\n",
      "Losses {'ner': 135.7378508966595, 'textcat': 0.09480745554391556} at iteration 8\n",
      "Losses {'ner': 112.78963125042438, 'textcat': 0.09414251044166634} at iteration 9\n",
      "Losses {'textcat': 0.08573481060380805, 'ner': 101.1115572803865} at iteration 10\n",
      "Losses {'textcat': 0.10732477044724137, 'ner': 98.62958603744119} at iteration 11\n",
      "Losses {'ner': 100.28780996156425, 'textcat': 0.03261705699055156} at iteration 12\n",
      "Losses {'ner': 119.3932942545439, 'textcat': 0.03213105522823988} at iteration 13\n",
      "Losses {'textcat': 0.048807939574399314, 'ner': 96.91837905813617} at iteration 14\n",
      "Losses {'textcat': 0.060296133284533475, 'ner': 70.58284042379522} at iteration 15\n",
      "Losses {'ner': 76.03616342102826, 'textcat': 0.0401840403480221} at iteration 16\n",
      "Losses {'ner': 69.46242508783317, 'textcat': 0.06352315439830704} at iteration 17\n",
      "Losses {'textcat': 0.04165292853248069, 'ner': 67.44703048695527} at iteration 18\n",
      "Losses {'textcat': 0.050945472346818024, 'ner': 53.01260431507646} at iteration 19\n",
      "Losses {'ner': 64.54266363534512, 'textcat': 2.326289515472836e-05} at iteration 20\n",
      "Losses {'ner': 65.81782762150156, 'textcat': 0.03272683134440469} at iteration 21\n",
      "Losses {'textcat': 0.039654968878581685, 'ner': 61.26469980924545} at iteration 22\n",
      "Losses {'textcat': 0.017361868001714017, 'ner': 62.81024002301558} at iteration 23\n",
      "Losses {'textcat': 0.03167875548924196, 'ner': 81.65169300211734} at iteration 24\n",
      "Losses {'textcat': 0.0015926846610358405, 'ner': 65.60449532370365} at iteration 25\n",
      "Losses {'textcat': 0.003063476914296161, 'ner': 51.31393992325848} at iteration 26\n",
      "Losses {'ner': 50.078039932345725, 'textcat': 0.0006421999991693308} at iteration 27\n",
      "Losses {'textcat': 0.034606971639879344, 'ner': 43.94890154344028} at iteration 28\n",
      "Losses {'ner': 39.210406197419914, 'textcat': 0.05142431700611818} at iteration 29\n",
      "Losses {'ner': 54.18736202735053, 'textcat': 0.003156527812793662} at iteration 30\n",
      "Losses {'textcat': 0.031303298596344356, 'ner': 40.2568286677112} at iteration 31\n",
      "Losses {'ner': 37.66960819090484, 'textcat': 0.02989963978862982} at iteration 32\n",
      "Losses {'textcat': 0.02316810378473248, 'ner': 33.00439705062393} at iteration 33\n",
      "Losses {'ner': 50.294729770052456, 'textcat': 0.03501227118835177} at iteration 34\n",
      "Losses {'textcat': 0.02185868870243076, 'ner': 36.28851561570924} at iteration 35\n",
      "Losses {'textcat': 3.151751729102861e-05, 'ner': 46.826205113247696} at iteration 36\n",
      "Losses {'textcat': 1.6760119551441906e-06, 'ner': 40.833721042371195} at iteration 37\n",
      "Losses {'textcat': 0.026527863084803083, 'ner': 26.23915113080774} at iteration 38\n",
      "Losses {'ner': 31.60646726609642, 'textcat': 0.0001317989829368945} at iteration 39\n",
      "Losses {'textcat': 2.196371376673451e-05, 'ner': 25.977349281523868} at iteration 40\n",
      "Losses {'textcat': 0.0006782359781774955, 'ner': 37.95855709014933} at iteration 41\n",
      "Losses {'textcat': 0.03077961115600522, 'ner': 21.665462919662136} at iteration 42\n",
      "Losses {'ner': 42.16556372172752, 'textcat': 0.022291342391264547} at iteration 43\n",
      "Losses {'textcat': 9.536807680329071e-06, 'ner': 27.95534480698393} at iteration 44\n",
      "Losses {'ner': 26.176118932789002, 'textcat': 1.1843167830977341e-05} at iteration 45\n",
      "Losses {'textcat': 0.00041163734959254915, 'ner': 34.251784024799626} at iteration 46\n",
      "Losses {'textcat': 0.011651279395338499, 'ner': 25.215229948647842} at iteration 47\n",
      "Losses {'textcat': 9.578899979514053e-08, 'ner': 30.588700666453192} at iteration 48\n",
      "Losses {'ner': 25.766944533470216, 'textcat': 3.9366242441046645e-05} at iteration 49\n",
      "Losses {'ner': 23.54877114354308, 'textcat': 2.0190011714762e-05} at iteration 50\n",
      "Losses {'ner': 21.598832245239446, 'textcat': 8.025129983725931e-06} at iteration 51\n",
      "Losses {'ner': 27.344070920263835, 'textcat': 1.3626587961482283e-05} at iteration 52\n",
      "Losses {'textcat': 9.664444069110498e-06, 'ner': 16.4367614586009} at iteration 53\n",
      "Losses {'textcat': 9.583299692059643e-08, 'ner': 15.551677144418212} at iteration 54\n",
      "Losses {'textcat': 0.020228260804900512, 'ner': 42.27049263979861} at iteration 55\n",
      "Losses {'ner': 9.523977652312942, 'textcat': 8.442331155450916e-05} at iteration 56\n",
      "Losses {'ner': 32.83264300546522, 'textcat': 4.8828247450573096e-08} at iteration 57\n",
      "Losses {'ner': 23.949983687869217, 'textcat': 8.544241074724721e-05} at iteration 58\n",
      "Losses {'ner': 22.847956762884575, 'textcat': 0.0001521309147475574} at iteration 59\n",
      "Losses {'textcat': 1.0524823003028301e-07, 'ner': 28.208636270432947} at iteration 60\n",
      "Losses {'ner': 20.28610667279271, 'textcat': 2.4944903095387004e-07} at iteration 61\n",
      "Losses {'ner': 23.30997503111061, 'textcat': 8.886992227585692e-08} at iteration 62\n",
      "Losses {'textcat': 1.5183905386647624e-07, 'ner': 34.442816708450174} at iteration 63\n",
      "Losses {'ner': 26.10313102735974, 'textcat': 6.596979084516037e-05} at iteration 64\n",
      "Losses {'ner': 29.057948963363692, 'textcat': 0.031276947545192293} at iteration 65\n",
      "Losses {'textcat': 0.00046530010196148725, 'ner': 26.58303832189996} at iteration 66\n",
      "Losses {'ner': 22.86913039118816, 'textcat': 3.092243783057907e-07} at iteration 67\n",
      "Losses {'ner': 14.078541963412965, 'textcat': 2.204630578928123e-06} at iteration 68\n",
      "Losses {'ner': 38.29521596903284, 'textcat': 3.626793300522541e-07} at iteration 69\n",
      "Losses {'ner': 17.68817692404504, 'textcat': 8.180708420768595e-05} at iteration 70\n",
      "Losses {'ner': 24.828081521360208, 'textcat': 3.3036068635339835e-07} at iteration 71\n",
      "Losses {'ner': 26.33674704463165, 'textcat': 0.005224099411081425} at iteration 72\n",
      "Losses {'textcat': 1.2562358073085035e-08, 'ner': 22.907350926195626} at iteration 73\n",
      "Losses {'textcat': 0.00012724263885891663, 'ner': 22.907467588047904} at iteration 74\n",
      "Losses {'ner': 16.9656635260023, 'textcat': 6.362414201918474e-08} at iteration 75\n",
      "Losses {'ner': 28.327254799835245, 'textcat': 6.2695069282475024e-09} at iteration 76\n",
      "Losses {'ner': 19.107530994738912, 'textcat': 2.2278489537463883e-09} at iteration 77\n",
      "Losses {'textcat': 4.565005158926539e-06, 'ner': 11.97741483123702} at iteration 78\n",
      "Losses {'textcat': 6.926092495856518e-08, 'ner': 14.320707560081406} at iteration 79\n",
      "Losses {'ner': 26.344804898478163, 'textcat': 0.00017335974066284688} at iteration 80\n",
      "Losses {'textcat': 1.0384198878070798e-07, 'ner': 24.38508421016399} at iteration 81\n",
      "Losses {'textcat': 0.004847362767225779, 'ner': 19.323075855708936} at iteration 82\n",
      "Losses {'textcat': 3.1437565968291885e-07, 'ner': 25.762051718600855} at iteration 83\n",
      "Losses {'textcat': 4.318682133750378e-08, 'ner': 8.598651824919449} at iteration 84\n",
      "Losses {'textcat': 5.15544629243546e-05, 'ner': 9.35099775711393} at iteration 85\n",
      "Losses {'ner': 17.294659251215545, 'textcat': 2.7022324825577883e-08} at iteration 86\n",
      "Losses {'textcat': 1.2120084809424131e-06, 'ner': 26.75727161208845} at iteration 87\n",
      "Losses {'textcat': 1.5253358439981935e-09, 'ner': 5.731367876726941} at iteration 88\n",
      "Losses {'textcat': 4.7297446980615115e-06, 'ner': 12.423398987061278} at iteration 89\n",
      "Losses {'textcat': 7.697751655763244e-08, 'ner': 33.505341146600216} at iteration 90\n",
      "Losses {'ner': 14.549051843928607, 'textcat': 0.03124992901130307} at iteration 91\n",
      "Losses {'textcat': 8.803186681885297e-05, 'ner': 24.859142598015666} at iteration 92\n",
      "Losses {'textcat': 2.7027921968353483e-08, 'ner': 14.910075560139925} at iteration 93\n",
      "Losses {'textcat': 1.0686027477546804e-05, 'ner': 11.010752441299696} at iteration 94\n",
      "Losses {'ner': 34.04316966417966, 'textcat': 0.00012659804010027223} at iteration 95\n",
      "Losses {'textcat': 0.027119424181125507, 'ner': 16.53236838358973} at iteration 96\n",
      "Losses {'ner': 17.203690112538535, 'textcat': 1.1802221426868074e-06} at iteration 97\n",
      "Losses {'textcat': 3.3622385601417846e-08, 'ner': 8.95806834303196} at iteration 98\n",
      "Losses {'ner': 10.115382439451023, 'textcat': 0.0003441477325165579} at iteration 99\n"
     ]
    }
   ],
   "source": [
    "custom_nlp,ner,textcat = spacy_model_with_ner_textcat()\n",
    "ner = add_entities_ner(spacy_train_data,ner)\n",
    "textcat = add_labels_textcat(list(set(intents)) ,textcat)\n",
    "n_iter=100\n",
    "custom_nlp,tot_loss = train_joint_model(custom_nlp,spacy_train_data,n_iter)\n"
   ]
  },
  {
   "cell_type": "markdown",
   "metadata": {},
   "source": [
    "# Evaluation"
   ]
  },
  {
   "cell_type": "markdown",
   "metadata": {},
   "source": [
    "### NER On Test"
   ]
  },
  {
   "cell_type": "code",
   "execution_count": 153,
   "metadata": {},
   "outputs": [
    {
     "data": {
      "text/plain": [
       "{'uas': 0.0,\n",
       " 'las': 0.0,\n",
       " 'las_per_type': {'': {'p': 0.0, 'r': 0.0, 'f': 0.0}},\n",
       " 'ents_p': 93.93939393939394,\n",
       " 'ents_r': 93.0,\n",
       " 'ents_f': 93.46733668341709,\n",
       " 'ents_per_type': {'StationStart': {'p': 90.0, 'r': 90.0, 'f': 90.0},\n",
       "  'StationDest': {'p': 96.29629629629629,\n",
       "   'r': 92.85714285714286,\n",
       "   'f': 94.54545454545455},\n",
       "  'Criterion': {'p': 100.0, 'r': 100.0, 'f': 100.0},\n",
       "  'Vehicle': {'p': 93.75, 'r': 93.75, 'f': 93.75},\n",
       "  'Line': {'p': 100.0, 'r': 100.0, 'f': 100.0},\n",
       "  'TimeStartTime': {'p': 100.0, 'r': 100.0, 'f': 100.0}},\n",
       " 'tags_acc': 0.0,\n",
       " 'token_acc': 100.0,\n",
       " 'textcat_score': 0.0,\n",
       " 'textcats_per_cat': {}}"
      ]
     },
     "execution_count": 153,
     "metadata": {},
     "output_type": "execute_result"
    }
   ],
   "source": [
    "results_test = evaluate_ner(custom_nlp, spacy_test_data)\n",
    "results_test"
   ]
  },
  {
   "cell_type": "markdown",
   "metadata": {},
   "source": [
    "### Intent Classification on Test"
   ]
  },
  {
   "cell_type": "code",
   "execution_count": 152,
   "metadata": {},
   "outputs": [
    {
     "data": {
      "text/plain": [
       "{'textcat_p': 0.9761904759580499,\n",
       " 'textcat_r': 0.9761904759580499,\n",
       " 'textcat_f': 0.9761904759580499}"
      ]
     },
     "execution_count": 152,
     "metadata": {},
     "output_type": "execute_result"
    }
   ],
   "source": [
    "test_cats = [labels for _,_,labels in spacy_test_data]\n",
    "scores = evaluate_intent(custom_nlp.tokenizer, custom_nlp.get_pipe('textcat'), sentences_test, test_cats)\n",
    "scores"
   ]
  },
  {
   "cell_type": "markdown",
   "metadata": {},
   "source": [
    "**Loss by iteration**"
   ]
  },
  {
   "cell_type": "code",
   "execution_count": 154,
   "metadata": {},
   "outputs": [],
   "source": [
    "tot_loss_ner = [loss['ner'] for loss in tot_loss]\n",
    "tot_loss_textcat = [loss['textcat'] for loss in tot_loss]"
   ]
  },
  {
   "cell_type": "code",
   "execution_count": 155,
   "metadata": {},
   "outputs": [
    {
     "data": {
      "text/plain": [
       "[<matplotlib.lines.Line2D at 0x7f6a496f6518>]"
      ]
     },
     "execution_count": 155,
     "metadata": {},
     "output_type": "execute_result"
    },
    {
     "data": {
      "image/png": "[encoded data removed]",
      "text/plain": [
       "<Figure size 432x288 with 1 Axes>"
      ]
     },
     "metadata": {
      "needs_background": "light"
     },
     "output_type": "display_data"
    }
   ],
   "source": [
    "plt.plot(list(range(n_iter)), tot_loss_ner, linewidth=2, markersize=12)\n",
    "plt.plot(list(range(n_iter)), tot_loss_textcat, linewidth=2, markersize=12)"
   ]
  },
  {
   "cell_type": "code",
   "execution_count": 156,
   "metadata": {},
   "outputs": [
    {
     "name": "stdout",
     "output_type": "stream",
     "text": [
      "theresienstraße to assling\n",
      "Entities in 'theresienstraße to assling'\n",
      "StationStart theresienstraße\n",
      "StationDest assling\n",
      "Label :  {'DepartureTime': 1.8945331969888457e-09, 'FindConnection': 1.0}\n",
      "\n",
      "\n",
      "connection from boltzmannstraße to kieferngarten\n",
      "Entities in 'connection from boltzmannstraße to kieferngarten'\n",
      "StationStart boltzmannstraße\n",
      "StationDest kieferngarten\n",
      "Label :  {'DepartureTime': 8.460280254141139e-10, 'FindConnection': 1.0}\n",
      "\n",
      "\n",
      "connection from hauptbahnhof to odeonsplatz?\n",
      "Entities in 'connection from hauptbahnhof to odeonsplatz?'\n",
      "StationStart hauptbahnhof\n",
      "StationDest odeonsplatz\n",
      "Label :  {'DepartureTime': 9.238960152480047e-10, 'FindConnection': 1.0}\n",
      "\n",
      "\n",
      "how to get from alte heide to marienplatz\n",
      "Entities in 'how to get from alte heide to marienplatz'\n",
      "StationStart alte heide\n",
      "StationDest marienplatz\n",
      "Label :  {'DepartureTime': 4.912786844002426e-10, 'FindConnection': 1.0}\n",
      "\n",
      "\n",
      "how can i go from garching forschungszentrum to prinzregentenplatz\n",
      "Entities in 'how can i go from garching forschungszentrum to prinzregentenplatz'\n",
      "StationStart garching forschungszentrum\n",
      "StationDest prinzregentenplatz\n",
      "Label :  {'DepartureTime': 4.935873376687994e-10, 'FindConnection': 1.0}\n",
      "\n",
      "\n",
      "what is the next train from münchner freiheit\n",
      "Entities in 'what is the next train from münchner freiheit'\n",
      "Criterion next\n",
      "Vehicle train\n",
      "StationStart münchner freiheit\n",
      "Label :  {'DepartureTime': 1.0, 'FindConnection': 2.907301066557011e-10}\n",
      "\n",
      "\n",
      "how can i get to sendlinger tor?\n",
      "Entities in 'how can i get to sendlinger tor?'\n",
      "StationDest sendlinger tor\n",
      "Label :  {'DepartureTime': 1.5037673328777146e-09, 'FindConnection': 1.0}\n",
      "\n",
      "\n",
      "when does the bus to röblingweg starts?\n",
      "Entities in 'when does the bus to röblingweg starts?'\n",
      "Vehicle bus\n",
      "Label :  {'DepartureTime': 7.844208838037048e-09, 'FindConnection': 1.0}\n",
      "\n",
      "\n",
      "when does the next bus leaves at garching forschungszentrum?\n",
      "Entities in 'when does the next bus leaves at garching forschungszentrum?'\n",
      "Criterion next\n",
      "Vehicle bus\n",
      "StationStart garching forschungszentrum\n",
      "Label :  {'DepartureTime': 1.0, 'FindConnection': 1.8499536624805302e-10}\n",
      "\n",
      "\n",
      "how can i get from garching to sendlinger tor?\n",
      "Entities in 'how can i get from garching to sendlinger tor?'\n",
      "StationStart garching\n",
      "StationDest sendlinger tor\n",
      "Label :  {'DepartureTime': 3.173175722182009e-09, 'FindConnection': 1.0}\n",
      "\n",
      "\n"
     ]
    }
   ],
   "source": [
    "for test in sentences_test[:10]:\n",
    "    print(test)\n",
    "    doc = custom_nlp(test)\n",
    "    print(\"Entities in '%s'\" % test)\n",
    "    for ent in doc.ents:\n",
    "        print(ent.label_, ent.text)\n",
    "    print(\"Label : \",doc.cats)\n",
    "    print(\"\\n\")"
   ]
  },
  {
   "cell_type": "markdown",
   "metadata": {},
   "source": [
    "# Notes\n",
    "1. Not very clear on whether ner.add_multitask_objective(new_task) is the same as custom_nlp.add_pipe(new_task)"
   ]
  },
  {
   "cell_type": "code",
   "execution_count": null,
   "metadata": {},
   "outputs": [],
   "source": []
  }
 ],
 "metadata": {
  "kernelspec": {
   "display_name": "Python 3",
   "language": "python",
   "name": "python3"
  },
  "language_info": {
   "codemirror_mode": {
    "name": "ipython",
    "version": 3
   },
   "file_extension": ".py",
   "mimetype": "text/x-python",
   "name": "python",
   "nbconvert_exporter": "python",
   "pygments_lexer": "ipython3",
   "version": "3.6.9"
  }
 },
 "nbformat": 4,
 "nbformat_minor": 4
}
