{
 "cells": [
  {
   "cell_type": "markdown",
   "metadata": {},
   "source": [
    "##  Imports and Common Functions"
   ]
  },
  {
   "cell_type": "code",
   "execution_count": 1,
   "metadata": {},
   "outputs": [],
   "source": [
    "from sklearn.datasets import load_files\n",
    "from sklearn.feature_extraction.text import CountVectorizer,TfidfVectorizer\n",
    "from sklearn.linear_model import LogisticRegression\n",
    "from sklearn.metrics import f1_score\n",
    "import numpy as np\n",
    "import pandas as pd\n",
    "import string\n",
    "import re\n",
    "\n",
    "# Dataset - IMDb movie review dataset\n",
    "\n",
    "def load_imdb_data(datadir):\n",
    "    # read in training and test corpora\n",
    "    categories= ['pos', 'neg']\n",
    "    train_b = load_files(datadir+'/train', shuffle=True, \n",
    "                         categories=categories)\n",
    "    test_b = load_files(datadir+'/test', shuffle=True,\n",
    "                         categories=categories)    \n",
    "    train_b.data = [x.decode('utf-8') for x in train_b.data]\n",
    "    test_b.data =  [x.decode('utf-8') for x in test_b.data]\n",
    "    y_train = train_b.target\n",
    "    y_test = test_b.target\n",
    "    return train_b.data,test_b.data,y_train,y_test\n",
    "\n",
    "\n",
    "def get_cv(x_train,x_test,max_feats=800000):\n",
    "    veczr =  CountVectorizer(ngram_range=(1,3), binary=True, \n",
    "                             token_pattern=r'\\w+',\n",
    "                             max_features=max_feats)\n",
    "    dtm_train = veczr.fit_transform(x_train)\n",
    "    dtm_test = veczr.transform(x_test)\n",
    "    num_words = len([v for k,v in veczr.vocabulary_.items()]) + 1\n",
    "#     print('vocab size:%s' % (num_words))  \n",
    "    return dtm_train, dtm_test\n",
    "\n",
    "\n",
    "def get_tfidf(x_train,x_test):\n",
    "    veczr =  TfidfVectorizer(ngram_range=(1,3), binary=True, \n",
    "                             token_pattern=r'\\w+',\n",
    "                             max_features=800000)\n",
    "    dtm_train = veczr.fit_transform(x_train)\n",
    "    dtm_test = veczr.transform(x_test)\n",
    "    print(\"DTM shape (training): (%s, %s)\" % (dtm_train.shape))\n",
    "    print(\"DTM shape (test): (%s, %s)\" % (dtm_train.shape))\n",
    "    num_words = len([v for k,v in veczr.vocabulary_.items()]) + 1\n",
    "    print('vocab size:%s' % (num_words))  \n",
    "    return dtm_train, dtm_test\n",
    "\n",
    "\n",
    "def get_prob(x_feats,y_i, y):\n",
    "    p = x_feats[y==y_i].sum(0)\n",
    "    return (p+1) / ((y==y_i).sum()+1)\n",
    "\n",
    "# NB Log count ratios\n",
    "def get_nb_feats(x_feats,y):\n",
    "    log_rat = np.log(get_prob(x_feats,1,y) / get_prob(x_feats,0,y))\n",
    "    x_feats_nb = x_feats.multiply(log_rat)\n",
    "    return x_feats_nb,log_rat\n",
    "\n",
    "def get_nbsvm_model(x_feats,y):\n",
    "    # y = y.values       \n",
    "    x_feats_nb,log_rat = get_nb_feats(x_feats,y)\n",
    "    model = LogisticRegression(C=10,max_iter=1000)\n",
    "    model.fit(x_feats_nb, y)\n",
    "    return model, log_rat\n",
    "\n",
    "def clean_data(data):\n",
    "    # Remove <br />\n",
    "    data = data.replace(\"<br />\",\"\")\n",
    "    # Change Numbers to XX\n",
    "    data = re.sub('[0-9]', 'X', data)\n",
    "    # Remove punctuations\n",
    "    data = re.sub(r\"[,.;@#?!&$/]+\",\" \",data)\n",
    "    data = re.sub(r\"[-'\\\"´]+\",\"\",data)\n",
    "    data = data.replace(\"\\'\",\"\")\n",
    "    # lower case\n",
    "    data = data.lower()\n",
    "    return data\n"
   ]
  },
  {
   "cell_type": "markdown",
   "metadata": {},
   "source": [
    "## Import data and Preprocess"
   ]
  },
  {
   "cell_type": "code",
   "execution_count": 2,
   "metadata": {},
   "outputs": [],
   "source": [
    "PATH_TO_IMDB = \"data/aclImdb\"\n",
    "x_train,x_test,y_train,y_test = load_imdb_data(PATH_TO_IMDB)\n",
    "\n",
    "x_train_orig = pd.DataFrame({'x_train':x_train})['x_train'].apply(clean_data)\n",
    "x_test_orig = pd.DataFrame({'x_test':x_test})['x_test'].apply(clean_data)\n"
   ]
  },
  {
   "cell_type": "markdown",
   "metadata": {},
   "source": [
    "## Baseline Model Building and Checking"
   ]
  },
  {
   "cell_type": "markdown",
   "metadata": {},
   "source": [
    "### Subword Tokenization"
   ]
  },
  {
   "cell_type": "code",
   "execution_count": 3,
   "metadata": {},
   "outputs": [],
   "source": [
    "from tokenizers import ByteLevelBPETokenizer,CharBPETokenizer,SentencePieceBPETokenizer,BertWordPieceTokenizer\n",
    "\n",
    "tokenizer = SentencePieceBPETokenizer()\n",
    "\n",
    "f = open(\"train_text.txt\",\"w\")\n",
    "for each in list(x_train_orig):\n",
    "    f.write(str(each))\n",
    "    f.write(\"\\n\")\n",
    "\n",
    "f.close()\n",
    "\n",
    "tokenizer.train([\"./train_text.txt\"],vocab_size=2000,min_frequency=2)\n",
    "\n",
    "encoded_tokens_train = [tokenizer.encode(str(each)).tokens for each in x_train_orig]\n",
    "encoded_tokens_test = [tokenizer.encode(str(each)).tokens for each in x_test_orig]\n",
    "\n",
    "\n",
    "x_train = [\" \".join(each)  for each in encoded_tokens_train]\n",
    "x_test = [\" \".join(each)  for each in encoded_tokens_test]\n"
   ]
  },
  {
   "cell_type": "code",
   "execution_count": 4,
   "metadata": {},
   "outputs": [
    {
     "data": {
      "text/plain": [
       "'▁z er o ▁day ▁lead s ▁you ▁to ▁think ▁ ▁even ▁re th ink ▁why ▁two ▁boy s ▁young ▁men ▁would ▁do ▁what ▁they ▁did ▁ ▁comm it ▁m ut ual ▁su ic ide ▁v ia ▁sl augh ter ing ▁their ▁class m ates ▁ ▁it ▁capt ures ▁what ▁must ▁be ▁be y ond ▁a ▁b iz ar re ▁mo d e ▁of ▁being ▁for ▁two ▁hum ans ▁who ▁have ▁dec ided ▁to ▁with d ra w ▁from ▁comm on ▁c iv ility ▁in ▁order ▁to ▁def ine ▁their ▁own ▁m ut ual ▁world ▁v ia ▁cou pl ed ▁dest ru ction ▁it ▁is ▁not ▁a ▁perfect ▁movie ▁but ▁given ▁what ▁money ▁time ▁the ▁filmmak er ▁and ▁actors ▁had ▁ ▁it ▁is ▁a ▁rem ark able ▁produ ct ▁ ▁in ▁ter ms ▁of ▁expl ain ing ▁the ▁mot ives ▁and ▁act ions ▁of ▁the ▁two ▁young ▁su ic ide ▁murder ers ▁it ▁is ▁better ▁than ▁ele ph ant ▁ ▁in ▁ter ms ▁of ▁being ▁a ▁film ▁that ▁gets ▁under ▁our ▁r ational istic ▁sk in ▁it ▁is ▁a ▁far ▁ ▁far ▁better ▁film ▁than ▁almost ▁anything ▁you ▁are ▁like ly ▁to ▁see ▁ ▁fl aw ed ▁but ▁honest ▁with ▁a ▁terrible ▁honest y ▁'"
      ]
     },
     "execution_count": 4,
     "metadata": {},
     "output_type": "execute_result"
    }
   ],
   "source": [
    "x_train[0]"
   ]
  },
  {
   "cell_type": "markdown",
   "metadata": {},
   "source": [
    "### Count Vectorizers + Logistic"
   ]
  },
  {
   "cell_type": "code",
   "execution_count": 5,
   "metadata": {},
   "outputs": [
    {
     "name": "stderr",
     "output_type": "stream",
     "text": [
      "/home/kicompute/venv/lib/python3.6/site-packages/sklearn/linear_model/logistic.py:432: FutureWarning: Default solver will be changed to 'lbfgs' in 0.22. Specify a solver to silence this warning.\n",
      "  FutureWarning)\n"
     ]
    },
    {
     "name": "stdout",
     "output_type": "stream",
     "text": [
      "F1 Score on Validation Set 0.89672\n"
     ]
    }
   ],
   "source": [
    "dtm_train, dtm_test = get_cv(x_train,x_test)\n",
    "\n",
    "clf = LogisticRegression(C=10,n_jobs=1,max_iter=1000)\n",
    "clf.fit(dtm_train,y_train)\n",
    "\n",
    "y_pred_prob = clf.predict_proba(dtm_test)\n",
    "y_pred = np.argmax(y_pred_prob,axis=1)\n",
    "\n",
    "print(\"F1 Score on Validation Set\", f1_score(y_test, y_pred, average='micro'))"
   ]
  },
  {
   "cell_type": "markdown",
   "metadata": {},
   "source": [
    "### NBSVM with Count Vectorizer"
   ]
  },
  {
   "cell_type": "code",
   "execution_count": 6,
   "metadata": {},
   "outputs": [
    {
     "name": "stderr",
     "output_type": "stream",
     "text": [
      "/home/kicompute/venv/lib/python3.6/site-packages/sklearn/linear_model/logistic.py:432: FutureWarning: Default solver will be changed to 'lbfgs' in 0.22. Specify a solver to silence this warning.\n",
      "  FutureWarning)\n"
     ]
    },
    {
     "name": "stdout",
     "output_type": "stream",
     "text": [
      "F1 Score on Validation Set 0.91336\n"
     ]
    }
   ],
   "source": [
    "model,log_rat = get_nbsvm_model(dtm_train,y_train)\n",
    "y_pred_prob = model.predict_proba(dtm_test.multiply(log_rat))\n",
    "y_pred = np.argmax(y_pred_prob,axis=1)\n",
    "print(\"F1 Score on Validation Set\", f1_score(y_test, y_pred,average='micro'))"
   ]
  },
  {
   "cell_type": "markdown",
   "metadata": {},
   "source": [
    "### TFIDF + Logistic"
   ]
  },
  {
   "cell_type": "code",
   "execution_count": 7,
   "metadata": {},
   "outputs": [
    {
     "name": "stdout",
     "output_type": "stream",
     "text": [
      "DTM shape (training): (25000, 800000)\n",
      "DTM shape (test): (25000, 800000)\n",
      "vocab size:800001\n"
     ]
    },
    {
     "name": "stderr",
     "output_type": "stream",
     "text": [
      "/home/kicompute/venv/lib/python3.6/site-packages/sklearn/linear_model/logistic.py:432: FutureWarning: Default solver will be changed to 'lbfgs' in 0.22. Specify a solver to silence this warning.\n",
      "  FutureWarning)\n"
     ]
    },
    {
     "name": "stdout",
     "output_type": "stream",
     "text": [
      "F1 Score on Validation Set 0.9089599999999999\n"
     ]
    }
   ],
   "source": [
    "dtm_train, dtm_test = get_tfidf(x_train,x_test)\n",
    "\n",
    "clf = LogisticRegression(C=10,n_jobs=1,max_iter=1000)\n",
    "clf.fit(dtm_train,y_train)\n",
    "\n",
    "y_pred_prob = clf.predict_proba(dtm_test)\n",
    "y_pred = np.argmax(y_pred_prob,axis=1)\n",
    "\n",
    "print(\"F1 Score on Validation Set\", f1_score(y_test, y_pred, average='micro'))"
   ]
  },
  {
   "cell_type": "markdown",
   "metadata": {},
   "source": [
    "### NBSVM with TFIDF Vectorizer"
   ]
  },
  {
   "cell_type": "code",
   "execution_count": 8,
   "metadata": {},
   "outputs": [
    {
     "name": "stderr",
     "output_type": "stream",
     "text": [
      "/home/kicompute/venv/lib/python3.6/site-packages/sklearn/linear_model/logistic.py:432: FutureWarning: Default solver will be changed to 'lbfgs' in 0.22. Specify a solver to silence this warning.\n",
      "  FutureWarning)\n"
     ]
    },
    {
     "name": "stdout",
     "output_type": "stream",
     "text": [
      "F1 Score on Validation Set 0.9058\n"
     ]
    }
   ],
   "source": [
    "model,log_rat = get_nbsvm_model(dtm_train,y_train)\n",
    "y_pred_prob = model.predict_proba(dtm_test.multiply(log_rat))\n",
    "y_pred = np.argmax(y_pred_prob,axis=1)\n",
    "\n",
    "print(\"F1 Score on Validation Set\", f1_score(y_test, y_pred,average='micro'))"
   ]
  },
  {
   "cell_type": "markdown",
   "metadata": {},
   "source": [
    "**Finalized baseline model - NBSVM with Count Vectorizer**"
   ]
  },
  {
   "cell_type": "markdown",
   "metadata": {},
   "source": [
    "### Change Max Features and Check the Optimum"
   ]
  },
  {
   "cell_type": "code",
   "execution_count": 45,
   "metadata": {
    "scrolled": true
   },
   "outputs": [],
   "source": [
    "max_feats = list(range(10000,100000,10000)) + list(range(100000,900000,50000))\n",
    "f1_scores = []\n",
    "for n_feats in max_feats:\n",
    "    dtm_train, dtm_test = get_cv(x_train,x_test,n_feats)\n",
    "    model,log_rat = get_nbsvm_model(dtm_train,y_train)\n",
    "    y_pred_prob = model.predict_proba(dtm_test.multiply(log_rat))\n",
    "    y_pred = np.argmax(y_pred_prob,axis=1)\n",
    "#     print(\"F1 Score on Validation Set\", f1_score(y_test, y_pred,average='micro'))\n",
    "    f1_scores.append(f1_score(y_test, y_pred,average='micro'))\n",
    "\n",
    "feat_scores = pd.DataFrame({'feats':max_feats,'f1':f1_scores})"
   ]
  },
  {
   "cell_type": "code",
   "execution_count": 44,
   "metadata": {},
   "outputs": [],
   "source": [
    "np.save(\"feat_scores.npy\",feat_scores)\n",
    "np.save(\"max_feats.npy\",max_feats)"
   ]
  },
  {
   "cell_type": "code",
   "execution_count": 46,
   "metadata": {},
   "outputs": [
    {
     "data": {
      "image/png": "[encoded data removed]",
      "text/plain": [
       "<Figure size 432x288 with 1 Axes>"
      ]
     },
     "metadata": {
      "needs_background": "light"
     },
     "output_type": "display_data"
    }
   ],
   "source": [
    "import seaborn as sn    \n",
    "import matplotlib.pyplot as plt\n",
    "import matplotlib.ticker as ticker\n",
    "\n",
    "ax = sn.lineplot(data=feat_scores, x=\"feats\", y=\"f1\")\n",
    "ax.set(xlabel='max features', ylabel='f1 scores')\n",
    "plt.show()\n",
    "# plt.savefig(\"feat_scores.jpg\")\n"
   ]
  },
  {
   "cell_type": "markdown",
   "metadata": {},
   "source": [
    "### Check f1 scores for different sizes of training data\n"
   ]
  },
  {
   "cell_type": "code",
   "execution_count": 16,
   "metadata": {
    "scrolled": true
   },
   "outputs": [],
   "source": [
    "max_feats = 250000\n",
    "data_split1 = list(range(100,1200,100)) # A more fine grained split till 1100\n",
    "data_split2 = list(range(5,105,5))  # A coarser split based on percentage after 1100\n",
    "\n",
    "f1_scores = []\n",
    "for i,split in enumerate(data_split1+data_split2):\n",
    "    if i < len(data_split1):\n",
    "        thresh = int(split)\n",
    "    else:\n",
    "        thresh = int(split*len(x_train)/100)\n",
    "    dtm_train, dtm_test = get_cv(x_train[:thresh],x_test,max_feats)\n",
    "    model,log_rat = get_nbsvm_model(dtm_train,y_train[:thresh])        \n",
    "    y_pred_prob = model.predict_proba(dtm_test.multiply(log_rat))\n",
    "    y_pred = np.argmax(y_pred_prob,axis=1)\n",
    "#     print(\"F1 Score on Validation Set\", f1_score(y_test, y_pred,average='micro'))\n",
    "    f1_scores.append(f1_score(y_test, y_pred,average='micro'))\n",
    "\n",
    "data_size = data_split1 + [int(each/100*len(x_train)) for each in data_split2]\n",
    "data_split_scores = pd.DataFrame({'data_size':data_size,'f1':f1_scores})"
   ]
  },
  {
   "cell_type": "code",
   "execution_count": 11,
   "metadata": {},
   "outputs": [],
   "source": [
    "np.save(\"data_split.npy\",data_size)\n",
    "np.save(\"f1_scores_data_split.npy\",f1_scores)"
   ]
  },
  {
   "cell_type": "code",
   "execution_count": 13,
   "metadata": {},
   "outputs": [
    {
     "data": {
      "text/plain": [
       "<Figure size 432x288 with 0 Axes>"
      ]
     },
     "metadata": {},
     "output_type": "display_data"
    },
    {
     "data": {
      "image/png": "[encoded data removed]",
      "text/plain": [
       "<Figure size 1080x576 with 1 Axes>"
      ]
     },
     "metadata": {
      "needs_background": "light"
     },
     "output_type": "display_data"
    }
   ],
   "source": [
    "import seaborn as sn    \n",
    "import matplotlib.pyplot as plt\n",
    "import matplotlib.ticker as ticker\n",
    "# Plot the f1 scores by data sizes\n",
    "plt.clf()\n",
    "plt.figure(figsize=(15,8))\n",
    "ax = sn.lineplot(data=data_split_scores, x=\"data_size\", y=\"f1\")\n",
    "ax.set(xlabel='Data Used', ylabel='f1 scores')\n",
    "plt.savefig(\"data_split_scores.jpg\")"
   ]
  },
  {
   "cell_type": "code",
   "execution_count": 14,
   "metadata": {},
   "outputs": [
    {
     "data": {
      "text/html": [
       "<div>\n",
       "<style scoped>\n",
       "    .dataframe tbody tr th:only-of-type {\n",
       "        vertical-align: middle;\n",
       "    }\n",
       "\n",
       "    .dataframe tbody tr th {\n",
       "        vertical-align: top;\n",
       "    }\n",
       "\n",
       "    .dataframe thead th {\n",
       "        text-align: right;\n",
       "    }\n",
       "</style>\n",
       "<table border=\"1\" class=\"dataframe\">\n",
       "  <thead>\n",
       "    <tr style=\"text-align: right;\">\n",
       "      <th></th>\n",
       "      <th>data_size</th>\n",
       "      <th>f1</th>\n",
       "    </tr>\n",
       "  </thead>\n",
       "  <tbody>\n",
       "    <tr>\n",
       "      <th>0</th>\n",
       "      <td>100</td>\n",
       "      <td>0.71616</td>\n",
       "    </tr>\n",
       "    <tr>\n",
       "      <th>1</th>\n",
       "      <td>200</td>\n",
       "      <td>0.74296</td>\n",
       "    </tr>\n",
       "    <tr>\n",
       "      <th>2</th>\n",
       "      <td>300</td>\n",
       "      <td>0.79036</td>\n",
       "    </tr>\n",
       "    <tr>\n",
       "      <th>3</th>\n",
       "      <td>400</td>\n",
       "      <td>0.79932</td>\n",
       "    </tr>\n",
       "    <tr>\n",
       "      <th>4</th>\n",
       "      <td>500</td>\n",
       "      <td>0.80224</td>\n",
       "    </tr>\n",
       "    <tr>\n",
       "      <th>5</th>\n",
       "      <td>600</td>\n",
       "      <td>0.82584</td>\n",
       "    </tr>\n",
       "    <tr>\n",
       "      <th>6</th>\n",
       "      <td>700</td>\n",
       "      <td>0.83648</td>\n",
       "    </tr>\n",
       "    <tr>\n",
       "      <th>7</th>\n",
       "      <td>800</td>\n",
       "      <td>0.84384</td>\n",
       "    </tr>\n",
       "    <tr>\n",
       "      <th>8</th>\n",
       "      <td>900</td>\n",
       "      <td>0.84720</td>\n",
       "    </tr>\n",
       "    <tr>\n",
       "      <th>9</th>\n",
       "      <td>1000</td>\n",
       "      <td>0.84848</td>\n",
       "    </tr>\n",
       "    <tr>\n",
       "      <th>10</th>\n",
       "      <td>1100</td>\n",
       "      <td>0.85456</td>\n",
       "    </tr>\n",
       "    <tr>\n",
       "      <th>11</th>\n",
       "      <td>1250</td>\n",
       "      <td>0.85512</td>\n",
       "    </tr>\n",
       "    <tr>\n",
       "      <th>12</th>\n",
       "      <td>2500</td>\n",
       "      <td>0.87264</td>\n",
       "    </tr>\n",
       "    <tr>\n",
       "      <th>13</th>\n",
       "      <td>3750</td>\n",
       "      <td>0.88480</td>\n",
       "    </tr>\n",
       "    <tr>\n",
       "      <th>14</th>\n",
       "      <td>5000</td>\n",
       "      <td>0.89088</td>\n",
       "    </tr>\n",
       "    <tr>\n",
       "      <th>15</th>\n",
       "      <td>6250</td>\n",
       "      <td>0.89520</td>\n",
       "    </tr>\n",
       "    <tr>\n",
       "      <th>16</th>\n",
       "      <td>7500</td>\n",
       "      <td>0.89636</td>\n",
       "    </tr>\n",
       "    <tr>\n",
       "      <th>17</th>\n",
       "      <td>8750</td>\n",
       "      <td>0.89848</td>\n",
       "    </tr>\n",
       "    <tr>\n",
       "      <th>18</th>\n",
       "      <td>10000</td>\n",
       "      <td>0.90068</td>\n",
       "    </tr>\n",
       "    <tr>\n",
       "      <th>19</th>\n",
       "      <td>11250</td>\n",
       "      <td>0.90360</td>\n",
       "    </tr>\n",
       "    <tr>\n",
       "      <th>20</th>\n",
       "      <td>12500</td>\n",
       "      <td>0.90484</td>\n",
       "    </tr>\n",
       "    <tr>\n",
       "      <th>21</th>\n",
       "      <td>13750</td>\n",
       "      <td>0.90436</td>\n",
       "    </tr>\n",
       "    <tr>\n",
       "      <th>22</th>\n",
       "      <td>15000</td>\n",
       "      <td>0.90424</td>\n",
       "    </tr>\n",
       "    <tr>\n",
       "      <th>23</th>\n",
       "      <td>16250</td>\n",
       "      <td>0.90480</td>\n",
       "    </tr>\n",
       "    <tr>\n",
       "      <th>24</th>\n",
       "      <td>17500</td>\n",
       "      <td>0.90660</td>\n",
       "    </tr>\n",
       "    <tr>\n",
       "      <th>25</th>\n",
       "      <td>18750</td>\n",
       "      <td>0.90796</td>\n",
       "    </tr>\n",
       "    <tr>\n",
       "      <th>26</th>\n",
       "      <td>20000</td>\n",
       "      <td>0.90764</td>\n",
       "    </tr>\n",
       "    <tr>\n",
       "      <th>27</th>\n",
       "      <td>21250</td>\n",
       "      <td>0.90780</td>\n",
       "    </tr>\n",
       "    <tr>\n",
       "      <th>28</th>\n",
       "      <td>22500</td>\n",
       "      <td>0.90828</td>\n",
       "    </tr>\n",
       "    <tr>\n",
       "      <th>29</th>\n",
       "      <td>23750</td>\n",
       "      <td>0.90832</td>\n",
       "    </tr>\n",
       "    <tr>\n",
       "      <th>30</th>\n",
       "      <td>25000</td>\n",
       "      <td>0.90964</td>\n",
       "    </tr>\n",
       "  </tbody>\n",
       "</table>\n",
       "</div>"
      ],
      "text/plain": [
       "    data_size       f1\n",
       "0         100  0.71616\n",
       "1         200  0.74296\n",
       "2         300  0.79036\n",
       "3         400  0.79932\n",
       "4         500  0.80224\n",
       "5         600  0.82584\n",
       "6         700  0.83648\n",
       "7         800  0.84384\n",
       "8         900  0.84720\n",
       "9        1000  0.84848\n",
       "10       1100  0.85456\n",
       "11       1250  0.85512\n",
       "12       2500  0.87264\n",
       "13       3750  0.88480\n",
       "14       5000  0.89088\n",
       "15       6250  0.89520\n",
       "16       7500  0.89636\n",
       "17       8750  0.89848\n",
       "18      10000  0.90068\n",
       "19      11250  0.90360\n",
       "20      12500  0.90484\n",
       "21      13750  0.90436\n",
       "22      15000  0.90424\n",
       "23      16250  0.90480\n",
       "24      17500  0.90660\n",
       "25      18750  0.90796\n",
       "26      20000  0.90764\n",
       "27      21250  0.90780\n",
       "28      22500  0.90828\n",
       "29      23750  0.90832\n",
       "30      25000  0.90964"
      ]
     },
     "execution_count": 14,
     "metadata": {},
     "output_type": "execute_result"
    }
   ],
   "source": [
    "data_split_scores"
   ]
  },
  {
   "cell_type": "markdown",
   "metadata": {},
   "source": [
    "# Evaluating Weak Supervision with Snorkel"
   ]
  },
  {
   "cell_type": "code",
   "execution_count": 18,
   "metadata": {},
   "outputs": [],
   "source": [
    "# Labels for supervision\n",
    "ABSTAIN = -1\n",
    "NEG = 0\n",
    "POS = 1\n",
    "\n",
    "pd.options.display.max_colwidth = 1000\n",
    "\n",
    "sample_size = 500\n",
    "test_split = x_train_orig[:sample_size]\n",
    "test_labels = y_train[:sample_size]\n",
    "\n",
    "pd_test = pd.DataFrame({'text':test_split,'label':test_labels})\n",
    "\n",
    "weak_supervision_split = x_train_orig[sample_size:]\n",
    "weak_supervision_labels = y_train[sample_size:]\n",
    "\n",
    "pd_train = pd.DataFrame({'text':weak_supervision_split,'label':weak_supervision_labels})\n",
    "pd_train = pd_train.reset_index()"
   ]
  },
  {
   "cell_type": "markdown",
   "metadata": {},
   "source": [
    "## Labeling Functions"
   ]
  },
  {
   "cell_type": "code",
   "execution_count": 19,
   "metadata": {},
   "outputs": [
    {
     "name": "stderr",
     "output_type": "stream",
     "text": [
      "100%|██████████| 24500/24500 [01:18<00:00, 312.73it/s]\n",
      "100%|██████████| 500/500 [00:01<00:00, 312.24it/s]\n"
     ]
    }
   ],
   "source": [
    "from snorkel.labeling import labeling_function\n",
    "from snorkel.labeling import PandasLFApplier,LFApplier\n",
    "from snorkel.labeling import LabelingFunction\n",
    "from snorkel.preprocess import preprocessor\n",
    "from snorkel.labeling import LFAnalysis\n",
    "from snorkel.labeling.model import MajorityLabelVoter,LabelModel\n",
    "from snorkel.labeling import filter_unlabeled_dataframe\n",
    "from snorkel.utils import probs_to_preds\n",
    "from textblob import TextBlob\n",
    "from sklearn.metrics import accuracy_score\n",
    "\n",
    "@labeling_function()\n",
    "def nice_movie(x):\n",
    "    return POS if \"nice movie\" in x.text.lower() else ABSTAIN\n",
    "\n",
    "@labeling_function()\n",
    "def interesting_script(x):\n",
    "    return POS if \"interesting script\" in x.text.lower() else ABSTAIN\n",
    "\n",
    "@labeling_function()\n",
    "def great_performance(x):\n",
    "    return POS if \"great performance\" in x.text.lower() else ABSTAIN\n",
    "\n",
    "@labeling_function()\n",
    "def heart_warming(x):\n",
    "    return POS if \"heart warming\" in x.text.lower() else ABSTAIN\n",
    "\n",
    "\n",
    "def keyword_lookup(x, keywords, label):\n",
    "    if any(word in x.text.lower() for word in keywords):\n",
    "        return label\n",
    "    return ABSTAIN\n",
    "\n",
    "\n",
    "def make_keyword_lf(keywords, label=POS):\n",
    "    return LabelingFunction(\n",
    "        name=f\"keyword_{keywords[0]}\",\n",
    "        f=keyword_lookup,\n",
    "        resources=dict(keywords=keywords, label=label),\n",
    "    )\n",
    "\n",
    "keyword_pos = make_keyword_lf(keywords=['hilarious','commendable','remarkable','finest','fun','excellent',\n",
    "    'loved','wonderful','enjoyed','brilliant','beautiful','perfectly','perfect','superb','favorite',\n",
    "    'incredible','amazing','realistic','classic','oscar','leading','appreciate','charming','exhilarating',\n",
    "    'masterpiece','timeless','love','fantastic','enjoyable','splendid','touching',\n",
    "    'underrated','accomplished','recommend'],label=POS)\n",
    "\n",
    "keyword_neg = make_keyword_lf(keywords=['horrible','worst','terrible','sucks','flawed','wasted','waste',\n",
    "    'awful','stupid','boring','terrible','crap','poor','unfortunately','sadly','disappointed','pretentious',\n",
    "    'nonsense','inane','mess','gripe','rubbish','confusing','drags','excruciating','peril'],label=NEG)\n",
    "\n",
    "# Using pretrained TextBlob Model\n",
    "\n",
    "@preprocessor(memoize=True)\n",
    "def textblob_sentiment(x):\n",
    "    scores = TextBlob(x.text)\n",
    "    x.polarity = scores.sentiment.polarity\n",
    "    x.subjectivity = scores.sentiment.subjectivity\n",
    "    return x\n",
    "\n",
    "@labeling_function(pre=[textblob_sentiment])\n",
    "def textblob_polarity(x):\n",
    "    if x.polarity > 0.5:\n",
    "        return POS\n",
    "    if x.polarity < -0.5:\n",
    "        return NEG\n",
    "    return ABSTAIN\n",
    "\n",
    "lfs = [textblob_polarity,keyword_pos,keyword_neg,nice_movie,interesting_script,great_performance,heart_warming]\n",
    "applier = PandasLFApplier(lfs=lfs)\n",
    "L_train = applier.apply(df=pd_train[['text']])\n",
    "L_test = applier.apply(df=pd_test[['text']])"
   ]
  },
  {
   "cell_type": "markdown",
   "metadata": {},
   "source": [
    "Doing an LFAnalysis gives the amount of Coverage and other statistics for each labelling function"
   ]
  },
  {
   "cell_type": "code",
   "execution_count": 20,
   "metadata": {},
   "outputs": [
    {
     "data": {
      "text/html": [
       "<div>\n",
       "<style scoped>\n",
       "    .dataframe tbody tr th:only-of-type {\n",
       "        vertical-align: middle;\n",
       "    }\n",
       "\n",
       "    .dataframe tbody tr th {\n",
       "        vertical-align: top;\n",
       "    }\n",
       "\n",
       "    .dataframe thead th {\n",
       "        text-align: right;\n",
       "    }\n",
       "</style>\n",
       "<table border=\"1\" class=\"dataframe\">\n",
       "  <thead>\n",
       "    <tr style=\"text-align: right;\">\n",
       "      <th></th>\n",
       "      <th>j</th>\n",
       "      <th>Polarity</th>\n",
       "      <th>Coverage</th>\n",
       "      <th>Overlaps</th>\n",
       "      <th>Conflicts</th>\n",
       "    </tr>\n",
       "  </thead>\n",
       "  <tbody>\n",
       "    <tr>\n",
       "      <th>textblob_polarity</th>\n",
       "      <td>0</td>\n",
       "      <td>[0, 1]</td>\n",
       "      <td>0.009918</td>\n",
       "      <td>0.008857</td>\n",
       "      <td>0.000408</td>\n",
       "    </tr>\n",
       "    <tr>\n",
       "      <th>keyword_hilarious</th>\n",
       "      <td>1</td>\n",
       "      <td>[1]</td>\n",
       "      <td>0.718612</td>\n",
       "      <td>0.342857</td>\n",
       "      <td>0.330939</td>\n",
       "    </tr>\n",
       "    <tr>\n",
       "      <th>keyword_horrible</th>\n",
       "      <td>2</td>\n",
       "      <td>[0]</td>\n",
       "      <td>0.482408</td>\n",
       "      <td>0.332531</td>\n",
       "      <td>0.331592</td>\n",
       "    </tr>\n",
       "    <tr>\n",
       "      <th>nice_movie</th>\n",
       "      <td>3</td>\n",
       "      <td>[1]</td>\n",
       "      <td>0.000939</td>\n",
       "      <td>0.000816</td>\n",
       "      <td>0.000367</td>\n",
       "    </tr>\n",
       "    <tr>\n",
       "      <th>interesting_script</th>\n",
       "      <td>4</td>\n",
       "      <td>[1]</td>\n",
       "      <td>0.000204</td>\n",
       "      <td>0.000204</td>\n",
       "      <td>0.000204</td>\n",
       "    </tr>\n",
       "    <tr>\n",
       "      <th>great_performance</th>\n",
       "      <td>5</td>\n",
       "      <td>[1]</td>\n",
       "      <td>0.007306</td>\n",
       "      <td>0.006653</td>\n",
       "      <td>0.002980</td>\n",
       "    </tr>\n",
       "    <tr>\n",
       "      <th>heart_warming</th>\n",
       "      <td>6</td>\n",
       "      <td>[1]</td>\n",
       "      <td>0.000980</td>\n",
       "      <td>0.000857</td>\n",
       "      <td>0.000245</td>\n",
       "    </tr>\n",
       "  </tbody>\n",
       "</table>\n",
       "</div>"
      ],
      "text/plain": [
       "                    j Polarity  Coverage  Overlaps  Conflicts\n",
       "textblob_polarity   0   [0, 1]  0.009918  0.008857   0.000408\n",
       "keyword_hilarious   1      [1]  0.718612  0.342857   0.330939\n",
       "keyword_horrible    2      [0]  0.482408  0.332531   0.331592\n",
       "nice_movie          3      [1]  0.000939  0.000816   0.000367\n",
       "interesting_script  4      [1]  0.000204  0.000204   0.000204\n",
       "great_performance   5      [1]  0.007306  0.006653   0.002980\n",
       "heart_warming       6      [1]  0.000980  0.000857   0.000245"
      ]
     },
     "execution_count": 20,
     "metadata": {},
     "output_type": "execute_result"
    }
   ],
   "source": [
    "LFAnalysis(L=L_train, lfs=lfs).lf_summary()"
   ]
  },
  {
   "cell_type": "markdown",
   "metadata": {},
   "source": [
    "#### Sample of those labeled positive by textblob_polarity"
   ]
  },
  {
   "cell_type": "code",
   "execution_count": 21,
   "metadata": {},
   "outputs": [
    {
     "data": {
      "text/html": [
       "<div>\n",
       "<style scoped>\n",
       "    .dataframe tbody tr th:only-of-type {\n",
       "        vertical-align: middle;\n",
       "    }\n",
       "\n",
       "    .dataframe tbody tr th {\n",
       "        vertical-align: top;\n",
       "    }\n",
       "\n",
       "    .dataframe thead th {\n",
       "        text-align: right;\n",
       "    }\n",
       "</style>\n",
       "<table border=\"1\" class=\"dataframe\">\n",
       "  <thead>\n",
       "    <tr style=\"text-align: right;\">\n",
       "      <th></th>\n",
       "      <th>index</th>\n",
       "      <th>text</th>\n",
       "      <th>label</th>\n",
       "    </tr>\n",
       "  </thead>\n",
       "  <tbody>\n",
       "    <tr>\n",
       "      <th>13182</th>\n",
       "      <td>13682</td>\n",
       "      <td>this movie was incredible  i would recommend it to anyone  much better than what i had already anticipated  it was definitely a heartwrenching spectacular movie  it is an amazing story  with amazing actors and creators  definitely another great movie with denzel washington  (shouldnt surprise anyone) derek luke did a wonderful job as well</td>\n",
       "      <td>1</td>\n",
       "    </tr>\n",
       "    <tr>\n",
       "      <th>23921</th>\n",
       "      <td>24421</td>\n",
       "      <td>mary tyler moore and valerie harper still can turn the world on with their smiles  the combined talent of these two wonderful stars make this combination reunion newstart movie work  watch it and look forward to hitting sixty  mary defies the youth oriented society with wit and charm  a touch of drama adds xxxx realism  a tv series follow up would broaden the new characters and give us a chance to occaisionally see lou grant  phyllis  sue ann  murray  and georgette</td>\n",
       "      <td>1</td>\n",
       "    </tr>\n",
       "    <tr>\n",
       "      <th>12973</th>\n",
       "      <td>13473</td>\n",
       "      <td>this movie is utterly hilarious  its cast clicks immediately with frame one and takes us on a wonderful ride through spoofing gangster films  the conflict of brother vs  brother appears when johnnys brother becomes a dogooder d a  however  the best character is johnnys crimelord rival  the overly accented moroni  as johnny says that man should be arrested for butchering the english language check it out on video  its worth a look</td>\n",
       "      <td>1</td>\n",
       "    </tr>\n",
       "    <tr>\n",
       "      <th>13108</th>\n",
       "      <td>13608</td>\n",
       "      <td>paul   grace hartman are my husbands grandparents  they were both deceased when we met so watching old movies is a good way to see them and their work  i have always enjoyed old movies and was very happy to discover that this was also a very good one</td>\n",
       "      <td>1</td>\n",
       "    </tr>\n",
       "    <tr>\n",
       "      <th>6482</th>\n",
       "      <td>6982</td>\n",
       "      <td>i agree with another user here and have to say that this is one of the best kung fu movies ever  i watched this as a kid and absolutely loved it  the scaffolding scenes are brilliant and you can really empathise with this guy because he is treated as an outcast  nice humour and fantastic kung fu this movie rocks  if you like kung fu you would love this</td>\n",
       "      <td>1</td>\n",
       "    </tr>\n",
       "  </tbody>\n",
       "</table>\n",
       "</div>"
      ],
      "text/plain": [
       "       index  \\\n",
       "13182  13682   \n",
       "23921  24421   \n",
       "12973  13473   \n",
       "13108  13608   \n",
       "6482    6982   \n",
       "\n",
       "                                                                                                                                                                                                                                                                                                                                                                                                                                                                                         text  \\\n",
       "13182                                                                                                                                   this movie was incredible  i would recommend it to anyone  much better than what i had already anticipated  it was definitely a heartwrenching spectacular movie  it is an amazing story  with amazing actors and creators  definitely another great movie with denzel washington  (shouldnt surprise anyone) derek luke did a wonderful job as well    \n",
       "23921  mary tyler moore and valerie harper still can turn the world on with their smiles  the combined talent of these two wonderful stars make this combination reunion newstart movie work  watch it and look forward to hitting sixty  mary defies the youth oriented society with wit and charm  a touch of drama adds xxxx realism  a tv series follow up would broaden the new characters and give us a chance to occaisionally see lou grant  phyllis  sue ann  murray  and georgette    \n",
       "12973                                      this movie is utterly hilarious  its cast clicks immediately with frame one and takes us on a wonderful ride through spoofing gangster films  the conflict of brother vs  brother appears when johnnys brother becomes a dogooder d a  however  the best character is johnnys crimelord rival  the overly accented moroni  as johnny says that man should be arrested for butchering the english language check it out on video  its worth a look    \n",
       "13108                                                                                                                                                                                                                             paul   grace hartman are my husbands grandparents  they were both deceased when we met so watching old movies is a good way to see them and their work  i have always enjoyed old movies and was very happy to discover that this was also a very good one    \n",
       "6482                                                                                                                      i agree with another user here and have to say that this is one of the best kung fu movies ever  i watched this as a kid and absolutely loved it  the scaffolding scenes are brilliant and you can really empathise with this guy because he is treated as an outcast  nice humour and fantastic kung fu this movie rocks  if you like kung fu you would love this    \n",
       "\n",
       "       label  \n",
       "13182      1  \n",
       "23921      1  \n",
       "12973      1  \n",
       "13108      1  \n",
       "6482       1  "
      ]
     },
     "execution_count": 21,
     "metadata": {},
     "output_type": "execute_result"
    }
   ],
   "source": [
    "pd_train.iloc[L_train[:, 0] == POS].sample(5, random_state=1)"
   ]
  },
  {
   "cell_type": "markdown",
   "metadata": {},
   "source": [
    "#### Sample of those labeled negative by textblob_polarity"
   ]
  },
  {
   "cell_type": "code",
   "execution_count": 22,
   "metadata": {},
   "outputs": [
    {
     "data": {
      "text/html": [
       "<div>\n",
       "<style scoped>\n",
       "    .dataframe tbody tr th:only-of-type {\n",
       "        vertical-align: middle;\n",
       "    }\n",
       "\n",
       "    .dataframe tbody tr th {\n",
       "        vertical-align: top;\n",
       "    }\n",
       "\n",
       "    .dataframe thead th {\n",
       "        text-align: right;\n",
       "    }\n",
       "</style>\n",
       "<table border=\"1\" class=\"dataframe\">\n",
       "  <thead>\n",
       "    <tr style=\"text-align: right;\">\n",
       "      <th></th>\n",
       "      <th>index</th>\n",
       "      <th>text</th>\n",
       "      <th>label</th>\n",
       "    </tr>\n",
       "  </thead>\n",
       "  <tbody>\n",
       "    <tr>\n",
       "      <th>19876</th>\n",
       "      <td>20376</td>\n",
       "      <td>comment this movie is impossible  is terrible  very improbable  bad interpretation e direction  not look</td>\n",
       "      <td>0</td>\n",
       "    </tr>\n",
       "    <tr>\n",
       "      <th>13928</th>\n",
       "      <td>14428</td>\n",
       "      <td>we brought this film as a joke for a friend  and could of been our worst joke to play  the film is barely watchable  and the acting is dire  the worst child actor ever used and hasslehoff giving a substandard performance  the plot is disgraceful and at points we was so bored we was wondering what the hell was going on  it tries to be gruesome in places but is just laughable just terrible</td>\n",
       "      <td>0</td>\n",
       "    </tr>\n",
       "    <tr>\n",
       "      <th>17821</th>\n",
       "      <td>18321</td>\n",
       "      <td>i have seen over xxxx movies and this one stands out as one of the worst movies that i have ever seen  it is a shame that they had to associate this garbage to the angels xxxx song my boyfriends back  if you have to make a choice between watching this movie and painful dental work  i would suggest the dental work</td>\n",
       "      <td>0</td>\n",
       "    </tr>\n",
       "    <tr>\n",
       "      <th>18623</th>\n",
       "      <td>19123</td>\n",
       "      <td>this movie is not for the faint or weak of heart  it couldnt decide if it was going to be porn or legit  it was neither one  it was just bad  there was nothing in this movie to make me want to see anything else made by these people again</td>\n",
       "      <td>0</td>\n",
       "    </tr>\n",
       "    <tr>\n",
       "      <th>11906</th>\n",
       "      <td>12406</td>\n",
       "      <td>i was looking on imdbs bottom xxx because i thought id never seen anything as bad as plan x from outerspace or roller ball remake  i was wrong  ben and arthur has beaten both this out of the many countless amount of movies ive seen is the number one worst film on the i ever saw  bad directing  bad characters  horrible acting  horrible story theres a reason nobody but sam ever says anything positive about this film  sam was a horrible annoying actor but his directing was so bad he may just overthrow ed wood the director should be ashamed of his work unfortunately i have to give it at least x star but it deserves  to be continued stars</td>\n",
       "      <td>0</td>\n",
       "    </tr>\n",
       "  </tbody>\n",
       "</table>\n",
       "</div>"
      ],
      "text/plain": [
       "       index  \\\n",
       "19876  20376   \n",
       "13928  14428   \n",
       "17821  18321   \n",
       "18623  19123   \n",
       "11906  12406   \n",
       "\n",
       "                                                                                                                                                                                                                                                                                                                                                                                                                                                                                                                                                                                                                                                                     text  \\\n",
       "19876                                                                                                                                                                                                                                                                                                                                                                                                                                                                                                                                                           comment this movie is impossible  is terrible  very improbable  bad interpretation e direction  not look    \n",
       "13928                                                                                                                                                                                                                                                              we brought this film as a joke for a friend  and could of been our worst joke to play  the film is barely watchable  and the acting is dire  the worst child actor ever used and hasslehoff giving a substandard performance  the plot is disgraceful and at points we was so bored we was wondering what the hell was going on  it tries to be gruesome in places but is just laughable just terrible   \n",
       "17821                                                                                                                                                                                                                                                                                                                                         i have seen over xxxx movies and this one stands out as one of the worst movies that i have ever seen  it is a shame that they had to associate this garbage to the angels xxxx song my boyfriends back  if you have to make a choice between watching this movie and painful dental work  i would suggest the dental work    \n",
       "18623                                                                                                                                                                                                                                                                                                                                                                                                                      this movie is not for the faint or weak of heart  it couldnt decide if it was going to be porn or legit  it was neither one  it was just bad  there was nothing in this movie to make me want to see anything else made by these people again    \n",
       "11906  i was looking on imdbs bottom xxx because i thought id never seen anything as bad as plan x from outerspace or roller ball remake  i was wrong  ben and arthur has beaten both this out of the many countless amount of movies ive seen is the number one worst film on the i ever saw  bad directing  bad characters  horrible acting  horrible story theres a reason nobody but sam ever says anything positive about this film  sam was a horrible annoying actor but his directing was so bad he may just overthrow ed wood the director should be ashamed of his work unfortunately i have to give it at least x star but it deserves  to be continued stars    \n",
       "\n",
       "       label  \n",
       "19876      0  \n",
       "13928      0  \n",
       "17821      0  \n",
       "18623      0  \n",
       "11906      0  "
      ]
     },
     "execution_count": 22,
     "metadata": {},
     "output_type": "execute_result"
    }
   ],
   "source": [
    "pd_train.iloc[L_train[:, 0] == NEG].sample(5, random_state=1)"
   ]
  },
  {
   "cell_type": "markdown",
   "metadata": {},
   "source": [
    "#### Predicting the label using a model based on Labelling functions"
   ]
  },
  {
   "cell_type": "code",
   "execution_count": 23,
   "metadata": {},
   "outputs": [
    {
     "name": "stderr",
     "output_type": "stream",
     "text": [
      "/home/kicompute/venv/lib/python3.6/site-packages/torch/autograd/__init__.py:132: UserWarning: CUDA initialization: Found no NVIDIA driver on your system. Please check that you have an NVIDIA GPU and installed a driver from http://www.nvidia.com/Download/index.aspx (Triggered internally at  /pytorch/c10/cuda/CUDAFunctions.cpp:100.)\n",
      "  allow_unreachable=True)  # allow_unreachable flag\n"
     ]
    }
   ],
   "source": [
    "majority_model = MajorityLabelVoter()\n",
    "preds_train_maj = majority_model.predict(L=L_train)\n",
    "preds_test_maj = majority_model.predict(L=L_test)\n",
    "\n",
    "\n",
    "label_model = LabelModel(cardinality=2, verbose=True)\n",
    "label_model.fit(L_train=L_train, n_epochs=500, log_freq=100, seed=123)\n",
    "preds_train_label_model = label_model.predict(L=L_train)\n",
    "preds_test_label_model = label_model.predict(L=L_test)\n",
    "\n"
   ]
  },
  {
   "cell_type": "markdown",
   "metadata": {},
   "source": [
    "#### Prediction on test and checking accuracy"
   ]
  },
  {
   "cell_type": "code",
   "execution_count": 24,
   "metadata": {},
   "outputs": [
    {
     "name": "stdout",
     "output_type": "stream",
     "text": [
      "Majority model accuracy on unlabelled set : 0.807637482181709\n",
      "Majority model accuracy on gold set : 0.87248322147651\n",
      "Label model accuracy on unlabelled set : 0.6367593372648133\n",
      "Label model accuracy on gold set : 0.7321428571428571\n"
     ]
    }
   ],
   "source": [
    "majority_acc = majority_model.score(L=L_test, Y=pd_test['label'], tie_break_policy=\"random\")[\n",
    "    \"accuracy\"\n",
    "]\n",
    "# print(f\"{'Majority Vote Accuracy:':<25} {majority_acc * 100:.1f}%\")\n",
    "\n",
    "train_acc_maj = accuracy_score(pd_train.loc[np.where(preds_train_maj!=-1)[0],'label'], \n",
    "    preds_train_maj[np.where(preds_train_maj!=-1)[0]])\n",
    "\n",
    "test_acc_maj = accuracy_score(pd_test.loc[np.where(preds_test_maj!=-1)[0],'label'], \n",
    "    preds_test_maj[np.where(preds_test_maj!=-1)[0]])\n",
    "\n",
    "print(\"Majority model accuracy on unlabelled set :\",train_acc_maj)\n",
    "print(\"Majority model accuracy on gold set :\",test_acc_maj)\n",
    "\n",
    "label_model_acc = label_model.score(L=L_test, Y=pd_test['label'], tie_break_policy=\"random\")[\n",
    "    \"accuracy\"\n",
    "]\n",
    "# print(f\"{'Label Model Accuracy:':<25} {label_model_acc * 100:.1f}%\")\n",
    "\n",
    "train_acc_lab = accuracy_score(pd_train.loc[np.where(preds_train_label_model!=-1)[0],'label'], preds_train_label_model[np.where(preds_train_label_model!=-1)[0]])\n",
    "\n",
    "test_acc_lab = accuracy_score(pd_test.loc[np.where(preds_test_label_model!=-1)[0]]['label'], preds_test_label_model[np.where(preds_test_label_model!=-1)[0]])\n",
    "\n",
    "print(\"Label model accuracy on unlabelled set :\",train_acc_lab)\n",
    "print(\"Label model accuracy on gold set :\",test_acc_lab)"
   ]
  },
  {
   "cell_type": "markdown",
   "metadata": {},
   "source": [
    "We will consider the majority label model for our purposes owing to higher accuracy"
   ]
  },
  {
   "cell_type": "markdown",
   "metadata": {},
   "source": [
    "#### Filter out the unlabelled"
   ]
  },
  {
   "cell_type": "code",
   "execution_count": 28,
   "metadata": {},
   "outputs": [
    {
     "name": "stdout",
     "output_type": "stream",
     "text": [
      "0.807637482181709\n"
     ]
    }
   ],
   "source": [
    "def custom_filter(df_train,preds_train_maj):\n",
    "    df_train_filtered = df_train.loc[np.where(preds_train_maj!=-1)[0]]\n",
    "    preds_train_filtered = preds_train_maj[np.where(preds_train_maj!=-1)[0]]\n",
    "    return df_train_filtered,preds_train_filtered\n",
    "\n",
    "\n",
    "# probs_train = majority_model.predict_proba(L=L_train)\n",
    "# df_train_filtered, probs_train_filtered = filter_unlabeled_dataframe(\n",
    "#     X=pd_train, y=probs_train, L=L_train\n",
    "# )\n",
    "# preds_train_filtered = probs_to_preds(probs=probs_train_filtered)\n",
    "# accuracy_score(df_train_filtered['label'], preds_train_filtered)\n",
    "\n",
    "df_train_filtered,preds_train_filtered = custom_filter(pd_train,preds_train_maj)\n",
    "print(accuracy_score(df_train_filtered['label'], preds_train_filtered))\n"
   ]
  },
  {
   "cell_type": "markdown",
   "metadata": {},
   "source": [
    "#### Train Baseline Classifier ( NBSVM + CV) with gold set + weakly supervised set\n"
   ]
  },
  {
   "cell_type": "code",
   "execution_count": 29,
   "metadata": {},
   "outputs": [
    {
     "name": "stderr",
     "output_type": "stream",
     "text": [
      "/home/kicompute/venv/lib/python3.6/site-packages/sklearn/linear_model/logistic.py:432: FutureWarning: Default solver will be changed to 'lbfgs' in 0.22. Specify a solver to silence this warning.\n",
      "  FutureWarning)\n"
     ]
    },
    {
     "name": "stdout",
     "output_type": "stream",
     "text": [
      "F1 Score on Validation Set 0.7502\n"
     ]
    }
   ],
   "source": [
    "gold_set = pd_test.copy()\n",
    "\n",
    "weak_set = df_train_filtered.copy()\n",
    "weak_set = weak_set.drop(columns=['label'])\n",
    "weak_set['label'] = preds_train_filtered\n",
    "\n",
    "final_set = pd.concat([gold_set,weak_set])\n",
    "\n",
    "len(final_set)\n",
    "\n",
    "encoded_tokens = [tokenizer.encode(str(each)).tokens for each in final_set['text']]\n",
    "encoded_tokens = [\" \".join(each)  for each in encoded_tokens]\n",
    "\n",
    "dtm_train, dtm_test = get_cv(encoded_tokens,x_test,max_feats=max_feats)\n",
    "model,log_rat = get_nbsvm_model(dtm_train,np.array(final_set['label']))\n",
    "y_pred_prob = model.predict_proba(dtm_test.multiply(log_rat))\n",
    "# y_pred_prob = model.predict_proba(test_term_doc)\n",
    "y_pred = np.argmax(y_pred_prob,axis=1)\n",
    "\n",
    "print(\"F1 Score on Validation Set\", f1_score(y_test, y_pred,average='micro'))\n",
    "\n"
   ]
  },
  {
   "cell_type": "markdown",
   "metadata": {},
   "source": [
    "### Checking f1 score for different sizes of gold set coupled with weak supervision for remaining\n"
   ]
  },
  {
   "cell_type": "code",
   "execution_count": 30,
   "metadata": {},
   "outputs": [
    {
     "name": "stderr",
     "output_type": "stream",
     "text": [
      "  0%|          | 124/24900 [00:00<00:20, 1233.37it/s]"
     ]
    },
    {
     "name": "stdout",
     "output_type": "stream",
     "text": [
      "Size of gold set  100\n"
     ]
    },
    {
     "name": "stderr",
     "output_type": "stream",
     "text": [
      "100%|██████████| 24900/24900 [00:15<00:00, 1576.39it/s]\n"
     ]
    },
    {
     "name": "stdout",
     "output_type": "stream",
     "text": [
      "Size of weak supervision set : 13571\n"
     ]
    },
    {
     "name": "stderr",
     "output_type": "stream",
     "text": [
      "/home/kicompute/venv/lib/python3.6/site-packages/sklearn/linear_model/logistic.py:432: FutureWarning: Default solver will be changed to 'lbfgs' in 0.22. Specify a solver to silence this warning.\n",
      "  FutureWarning)\n",
      "  1%|          | 149/24800 [00:00<00:16, 1471.89it/s]"
     ]
    },
    {
     "name": "stdout",
     "output_type": "stream",
     "text": [
      "F1 Score on Validation Set 0.7408800000000001\n",
      "Size of gold set  200\n"
     ]
    },
    {
     "name": "stderr",
     "output_type": "stream",
     "text": [
      "100%|██████████| 24800/24800 [00:17<00:00, 1441.19it/s]\n"
     ]
    },
    {
     "name": "stdout",
     "output_type": "stream",
     "text": [
      "Size of weak supervision set : 13515\n"
     ]
    },
    {
     "name": "stderr",
     "output_type": "stream",
     "text": [
      "/home/kicompute/venv/lib/python3.6/site-packages/sklearn/linear_model/logistic.py:432: FutureWarning: Default solver will be changed to 'lbfgs' in 0.22. Specify a solver to silence this warning.\n",
      "  FutureWarning)\n",
      "  1%|          | 152/24700 [00:00<00:16, 1516.81it/s]"
     ]
    },
    {
     "name": "stdout",
     "output_type": "stream",
     "text": [
      "F1 Score on Validation Set 0.7446799999999999\n",
      "Size of gold set  300\n"
     ]
    },
    {
     "name": "stderr",
     "output_type": "stream",
     "text": [
      "100%|██████████| 24700/24700 [00:18<00:00, 1344.72it/s]\n"
     ]
    },
    {
     "name": "stdout",
     "output_type": "stream",
     "text": [
      "Size of weak supervision set : 13452\n"
     ]
    },
    {
     "name": "stderr",
     "output_type": "stream",
     "text": [
      "/home/kicompute/venv/lib/python3.6/site-packages/sklearn/linear_model/logistic.py:432: FutureWarning: Default solver will be changed to 'lbfgs' in 0.22. Specify a solver to silence this warning.\n",
      "  FutureWarning)\n",
      "  1%|          | 134/24600 [00:00<00:18, 1338.97it/s]"
     ]
    },
    {
     "name": "stdout",
     "output_type": "stream",
     "text": [
      "F1 Score on Validation Set 0.74584\n",
      "Size of gold set  400\n"
     ]
    },
    {
     "name": "stderr",
     "output_type": "stream",
     "text": [
      "100%|██████████| 24600/24600 [00:18<00:00, 1365.34it/s]\n"
     ]
    },
    {
     "name": "stdout",
     "output_type": "stream",
     "text": [
      "Size of weak supervision set : 13388\n"
     ]
    },
    {
     "name": "stderr",
     "output_type": "stream",
     "text": [
      "/home/kicompute/venv/lib/python3.6/site-packages/sklearn/linear_model/logistic.py:432: FutureWarning: Default solver will be changed to 'lbfgs' in 0.22. Specify a solver to silence this warning.\n",
      "  FutureWarning)\n",
      "  1%|          | 129/24500 [00:00<00:18, 1289.82it/s]"
     ]
    },
    {
     "name": "stdout",
     "output_type": "stream",
     "text": [
      "F1 Score on Validation Set 0.74764\n",
      "Size of gold set  500\n"
     ]
    },
    {
     "name": "stderr",
     "output_type": "stream",
     "text": [
      "100%|██████████| 24500/24500 [00:15<00:00, 1547.54it/s]\n"
     ]
    },
    {
     "name": "stdout",
     "output_type": "stream",
     "text": [
      "Size of weak supervision set : 13329\n"
     ]
    },
    {
     "name": "stderr",
     "output_type": "stream",
     "text": [
      "/home/kicompute/venv/lib/python3.6/site-packages/sklearn/linear_model/logistic.py:432: FutureWarning: Default solver will be changed to 'lbfgs' in 0.22. Specify a solver to silence this warning.\n",
      "  FutureWarning)\n",
      "  1%|          | 164/24400 [00:00<00:14, 1626.87it/s]"
     ]
    },
    {
     "name": "stdout",
     "output_type": "stream",
     "text": [
      "F1 Score on Validation Set 0.7502\n",
      "Size of gold set  600\n"
     ]
    },
    {
     "name": "stderr",
     "output_type": "stream",
     "text": [
      "100%|██████████| 24400/24400 [00:16<00:00, 1499.54it/s]\n"
     ]
    },
    {
     "name": "stdout",
     "output_type": "stream",
     "text": [
      "Size of weak supervision set : 13274\n"
     ]
    },
    {
     "name": "stderr",
     "output_type": "stream",
     "text": [
      "/home/kicompute/venv/lib/python3.6/site-packages/sklearn/linear_model/logistic.py:432: FutureWarning: Default solver will be changed to 'lbfgs' in 0.22. Specify a solver to silence this warning.\n",
      "  FutureWarning)\n",
      "  1%|          | 133/24300 [00:00<00:18, 1324.21it/s]"
     ]
    },
    {
     "name": "stdout",
     "output_type": "stream",
     "text": [
      "F1 Score on Validation Set 0.7542800000000001\n",
      "Size of gold set  700\n"
     ]
    },
    {
     "name": "stderr",
     "output_type": "stream",
     "text": [
      "100%|██████████| 24300/24300 [00:15<00:00, 1532.52it/s]\n"
     ]
    },
    {
     "name": "stdout",
     "output_type": "stream",
     "text": [
      "Size of weak supervision set : 13222\n"
     ]
    },
    {
     "name": "stderr",
     "output_type": "stream",
     "text": [
      "/home/kicompute/venv/lib/python3.6/site-packages/sklearn/linear_model/logistic.py:432: FutureWarning: Default solver will be changed to 'lbfgs' in 0.22. Specify a solver to silence this warning.\n",
      "  FutureWarning)\n",
      "  1%|          | 161/24200 [00:00<00:14, 1605.05it/s]"
     ]
    },
    {
     "name": "stdout",
     "output_type": "stream",
     "text": [
      "F1 Score on Validation Set 0.75752\n",
      "Size of gold set  800\n"
     ]
    },
    {
     "name": "stderr",
     "output_type": "stream",
     "text": [
      "100%|██████████| 24200/24200 [00:15<00:00, 1533.65it/s]\n"
     ]
    },
    {
     "name": "stdout",
     "output_type": "stream",
     "text": [
      "Size of weak supervision set : 13170\n"
     ]
    },
    {
     "name": "stderr",
     "output_type": "stream",
     "text": [
      "/home/kicompute/venv/lib/python3.6/site-packages/sklearn/linear_model/logistic.py:432: FutureWarning: Default solver will be changed to 'lbfgs' in 0.22. Specify a solver to silence this warning.\n",
      "  FutureWarning)\n",
      "  1%|          | 153/24100 [00:00<00:15, 1522.12it/s]"
     ]
    },
    {
     "name": "stdout",
     "output_type": "stream",
     "text": [
      "F1 Score on Validation Set 0.75836\n",
      "Size of gold set  900\n"
     ]
    },
    {
     "name": "stderr",
     "output_type": "stream",
     "text": [
      "100%|██████████| 24100/24100 [00:15<00:00, 1539.03it/s]\n"
     ]
    },
    {
     "name": "stdout",
     "output_type": "stream",
     "text": [
      "Size of weak supervision set : 13119\n"
     ]
    },
    {
     "name": "stderr",
     "output_type": "stream",
     "text": [
      "/home/kicompute/venv/lib/python3.6/site-packages/sklearn/linear_model/logistic.py:432: FutureWarning: Default solver will be changed to 'lbfgs' in 0.22. Specify a solver to silence this warning.\n",
      "  FutureWarning)\n",
      "  1%|          | 133/24000 [00:00<00:17, 1326.07it/s]"
     ]
    },
    {
     "name": "stdout",
     "output_type": "stream",
     "text": [
      "F1 Score on Validation Set 0.7598799999999999\n",
      "Size of gold set  1000\n"
     ]
    },
    {
     "name": "stderr",
     "output_type": "stream",
     "text": [
      "100%|██████████| 24000/24000 [00:15<00:00, 1525.58it/s]\n"
     ]
    },
    {
     "name": "stdout",
     "output_type": "stream",
     "text": [
      "Size of weak supervision set : 13065\n"
     ]
    },
    {
     "name": "stderr",
     "output_type": "stream",
     "text": [
      "/home/kicompute/venv/lib/python3.6/site-packages/sklearn/linear_model/logistic.py:432: FutureWarning: Default solver will be changed to 'lbfgs' in 0.22. Specify a solver to silence this warning.\n",
      "  FutureWarning)\n",
      "  1%|          | 153/23900 [00:00<00:15, 1526.05it/s]"
     ]
    },
    {
     "name": "stdout",
     "output_type": "stream",
     "text": [
      "F1 Score on Validation Set 0.76256\n",
      "Size of gold set  1100\n"
     ]
    },
    {
     "name": "stderr",
     "output_type": "stream",
     "text": [
      "100%|██████████| 23900/23900 [00:14<00:00, 1642.68it/s]\n"
     ]
    },
    {
     "name": "stdout",
     "output_type": "stream",
     "text": [
      "Size of weak supervision set : 13013\n"
     ]
    },
    {
     "name": "stderr",
     "output_type": "stream",
     "text": [
      "/home/kicompute/venv/lib/python3.6/site-packages/sklearn/linear_model/logistic.py:432: FutureWarning: Default solver will be changed to 'lbfgs' in 0.22. Specify a solver to silence this warning.\n",
      "  FutureWarning)\n",
      "  1%|          | 151/23750 [00:00<00:15, 1507.41it/s]"
     ]
    },
    {
     "name": "stdout",
     "output_type": "stream",
     "text": [
      "F1 Score on Validation Set 0.76348\n",
      "Size of gold set  1250\n"
     ]
    },
    {
     "name": "stderr",
     "output_type": "stream",
     "text": [
      "100%|██████████| 23750/23750 [00:14<00:00, 1601.97it/s]\n"
     ]
    },
    {
     "name": "stdout",
     "output_type": "stream",
     "text": [
      "Size of weak supervision set : 12932\n"
     ]
    },
    {
     "name": "stderr",
     "output_type": "stream",
     "text": [
      "/home/kicompute/venv/lib/python3.6/site-packages/sklearn/linear_model/logistic.py:432: FutureWarning: Default solver will be changed to 'lbfgs' in 0.22. Specify a solver to silence this warning.\n",
      "  FutureWarning)\n",
      "  1%|          | 140/22500 [00:00<00:15, 1397.86it/s]"
     ]
    },
    {
     "name": "stdout",
     "output_type": "stream",
     "text": [
      "F1 Score on Validation Set 0.76636\n",
      "Size of gold set  2500\n"
     ]
    },
    {
     "name": "stderr",
     "output_type": "stream",
     "text": [
      "100%|██████████| 22500/22500 [00:13<00:00, 1641.71it/s]\n"
     ]
    },
    {
     "name": "stdout",
     "output_type": "stream",
     "text": [
      "Size of weak supervision set : 12228\n"
     ]
    },
    {
     "name": "stderr",
     "output_type": "stream",
     "text": [
      "/home/kicompute/venv/lib/python3.6/site-packages/sklearn/linear_model/logistic.py:432: FutureWarning: Default solver will be changed to 'lbfgs' in 0.22. Specify a solver to silence this warning.\n",
      "  FutureWarning)\n",
      "  1%|          | 165/21250 [00:00<00:12, 1645.62it/s]"
     ]
    },
    {
     "name": "stdout",
     "output_type": "stream",
     "text": [
      "F1 Score on Validation Set 0.7822\n",
      "Size of gold set  3750\n"
     ]
    },
    {
     "name": "stderr",
     "output_type": "stream",
     "text": [
      "100%|██████████| 21250/21250 [00:13<00:00, 1574.53it/s]\n"
     ]
    },
    {
     "name": "stdout",
     "output_type": "stream",
     "text": [
      "Size of weak supervision set : 11564\n"
     ]
    },
    {
     "name": "stderr",
     "output_type": "stream",
     "text": [
      "/home/kicompute/venv/lib/python3.6/site-packages/sklearn/linear_model/logistic.py:432: FutureWarning: Default solver will be changed to 'lbfgs' in 0.22. Specify a solver to silence this warning.\n",
      "  FutureWarning)\n",
      "  1%|          | 174/20000 [00:00<00:11, 1729.49it/s]"
     ]
    },
    {
     "name": "stdout",
     "output_type": "stream",
     "text": [
      "F1 Score on Validation Set 0.79588\n",
      "Size of gold set  5000\n"
     ]
    },
    {
     "name": "stderr",
     "output_type": "stream",
     "text": [
      "100%|██████████| 20000/20000 [00:12<00:00, 1638.94it/s]\n"
     ]
    },
    {
     "name": "stdout",
     "output_type": "stream",
     "text": [
      "Size of weak supervision set : 10884\n"
     ]
    },
    {
     "name": "stderr",
     "output_type": "stream",
     "text": [
      "/home/kicompute/venv/lib/python3.6/site-packages/sklearn/linear_model/logistic.py:432: FutureWarning: Default solver will be changed to 'lbfgs' in 0.22. Specify a solver to silence this warning.\n",
      "  FutureWarning)\n",
      "  1%|          | 118/18750 [00:00<00:15, 1169.56it/s]"
     ]
    },
    {
     "name": "stdout",
     "output_type": "stream",
     "text": [
      "F1 Score on Validation Set 0.80988\n",
      "Size of gold set  6250\n"
     ]
    },
    {
     "name": "stderr",
     "output_type": "stream",
     "text": [
      "100%|██████████| 18750/18750 [00:11<00:00, 1653.99it/s]\n"
     ]
    },
    {
     "name": "stdout",
     "output_type": "stream",
     "text": [
      "Size of weak supervision set : 10212\n"
     ]
    },
    {
     "name": "stderr",
     "output_type": "stream",
     "text": [
      "/home/kicompute/venv/lib/python3.6/site-packages/sklearn/linear_model/logistic.py:432: FutureWarning: Default solver will be changed to 'lbfgs' in 0.22. Specify a solver to silence this warning.\n",
      "  FutureWarning)\n",
      "  1%|          | 162/17500 [00:00<00:10, 1618.25it/s]"
     ]
    },
    {
     "name": "stdout",
     "output_type": "stream",
     "text": [
      "F1 Score on Validation Set 0.8212\n",
      "Size of gold set  7500\n"
     ]
    },
    {
     "name": "stderr",
     "output_type": "stream",
     "text": [
      "100%|██████████| 17500/17500 [00:11<00:00, 1585.16it/s]\n"
     ]
    },
    {
     "name": "stdout",
     "output_type": "stream",
     "text": [
      "Size of weak supervision set : 9537\n"
     ]
    },
    {
     "name": "stderr",
     "output_type": "stream",
     "text": [
      "/home/kicompute/venv/lib/python3.6/site-packages/sklearn/linear_model/logistic.py:432: FutureWarning: Default solver will be changed to 'lbfgs' in 0.22. Specify a solver to silence this warning.\n",
      "  FutureWarning)\n",
      "  1%|          | 118/16250 [00:00<00:13, 1178.76it/s]"
     ]
    },
    {
     "name": "stdout",
     "output_type": "stream",
     "text": [
      "F1 Score on Validation Set 0.83168\n",
      "Size of gold set  8750\n"
     ]
    },
    {
     "name": "stderr",
     "output_type": "stream",
     "text": [
      "100%|██████████| 16250/16250 [00:10<00:00, 1482.21it/s]\n"
     ]
    },
    {
     "name": "stdout",
     "output_type": "stream",
     "text": [
      "Size of weak supervision set : 8850\n"
     ]
    },
    {
     "name": "stderr",
     "output_type": "stream",
     "text": [
      "/home/kicompute/venv/lib/python3.6/site-packages/sklearn/linear_model/logistic.py:432: FutureWarning: Default solver will be changed to 'lbfgs' in 0.22. Specify a solver to silence this warning.\n",
      "  FutureWarning)\n",
      "  1%|          | 150/15000 [00:00<00:09, 1497.43it/s]"
     ]
    },
    {
     "name": "stdout",
     "output_type": "stream",
     "text": [
      "F1 Score on Validation Set 0.84208\n",
      "Size of gold set  10000\n"
     ]
    },
    {
     "name": "stderr",
     "output_type": "stream",
     "text": [
      "100%|██████████| 15000/15000 [00:10<00:00, 1414.11it/s]\n"
     ]
    },
    {
     "name": "stdout",
     "output_type": "stream",
     "text": [
      "Size of weak supervision set : 8174\n"
     ]
    },
    {
     "name": "stderr",
     "output_type": "stream",
     "text": [
      "/home/kicompute/venv/lib/python3.6/site-packages/sklearn/linear_model/logistic.py:432: FutureWarning: Default solver will be changed to 'lbfgs' in 0.22. Specify a solver to silence this warning.\n",
      "  FutureWarning)\n",
      "  1%|          | 153/13750 [00:00<00:08, 1527.29it/s]"
     ]
    },
    {
     "name": "stdout",
     "output_type": "stream",
     "text": [
      "F1 Score on Validation Set 0.8496\n",
      "Size of gold set  11250\n"
     ]
    },
    {
     "name": "stderr",
     "output_type": "stream",
     "text": [
      "100%|██████████| 13750/13750 [00:09<00:00, 1526.89it/s]\n"
     ]
    },
    {
     "name": "stdout",
     "output_type": "stream",
     "text": [
      "Size of weak supervision set : 7451\n"
     ]
    },
    {
     "name": "stderr",
     "output_type": "stream",
     "text": [
      "/home/kicompute/venv/lib/python3.6/site-packages/sklearn/linear_model/logistic.py:432: FutureWarning: Default solver will be changed to 'lbfgs' in 0.22. Specify a solver to silence this warning.\n",
      "  FutureWarning)\n",
      "  1%|          | 153/12500 [00:00<00:08, 1524.09it/s]"
     ]
    },
    {
     "name": "stdout",
     "output_type": "stream",
     "text": [
      "F1 Score on Validation Set 0.85816\n",
      "Size of gold set  12500\n"
     ]
    },
    {
     "name": "stderr",
     "output_type": "stream",
     "text": [
      "100%|██████████| 12500/12500 [00:08<00:00, 1546.64it/s]\n"
     ]
    },
    {
     "name": "stdout",
     "output_type": "stream",
     "text": [
      "Size of weak supervision set : 6779\n"
     ]
    },
    {
     "name": "stderr",
     "output_type": "stream",
     "text": [
      "/home/kicompute/venv/lib/python3.6/site-packages/sklearn/linear_model/logistic.py:432: FutureWarning: Default solver will be changed to 'lbfgs' in 0.22. Specify a solver to silence this warning.\n",
      "  FutureWarning)\n",
      "  1%|▏         | 143/11250 [00:00<00:07, 1424.27it/s]"
     ]
    },
    {
     "name": "stdout",
     "output_type": "stream",
     "text": [
      "F1 Score on Validation Set 0.86624\n",
      "Size of gold set  13750\n"
     ]
    },
    {
     "name": "stderr",
     "output_type": "stream",
     "text": [
      "100%|██████████| 11250/11250 [00:07<00:00, 1505.70it/s]\n"
     ]
    },
    {
     "name": "stdout",
     "output_type": "stream",
     "text": [
      "Size of weak supervision set : 6090\n"
     ]
    },
    {
     "name": "stderr",
     "output_type": "stream",
     "text": [
      "/home/kicompute/venv/lib/python3.6/site-packages/sklearn/linear_model/logistic.py:432: FutureWarning: Default solver will be changed to 'lbfgs' in 0.22. Specify a solver to silence this warning.\n",
      "  FutureWarning)\n",
      "  1%|▏         | 147/10000 [00:00<00:06, 1467.52it/s]"
     ]
    },
    {
     "name": "stdout",
     "output_type": "stream",
     "text": [
      "F1 Score on Validation Set 0.87368\n",
      "Size of gold set  15000\n"
     ]
    },
    {
     "name": "stderr",
     "output_type": "stream",
     "text": [
      "100%|██████████| 10000/10000 [00:06<00:00, 1657.53it/s]\n"
     ]
    },
    {
     "name": "stdout",
     "output_type": "stream",
     "text": [
      "Size of weak supervision set : 5435\n"
     ]
    },
    {
     "name": "stderr",
     "output_type": "stream",
     "text": [
      "/home/kicompute/venv/lib/python3.6/site-packages/sklearn/linear_model/logistic.py:432: FutureWarning: Default solver will be changed to 'lbfgs' in 0.22. Specify a solver to silence this warning.\n",
      "  FutureWarning)\n",
      "  2%|▏         | 156/8750 [00:00<00:05, 1551.71it/s]"
     ]
    },
    {
     "name": "stdout",
     "output_type": "stream",
     "text": [
      "F1 Score on Validation Set 0.87944\n",
      "Size of gold set  16250\n"
     ]
    },
    {
     "name": "stderr",
     "output_type": "stream",
     "text": [
      "100%|██████████| 8750/8750 [00:05<00:00, 1634.56it/s]\n"
     ]
    },
    {
     "name": "stdout",
     "output_type": "stream",
     "text": [
      "Size of weak supervision set : 4785\n"
     ]
    },
    {
     "name": "stderr",
     "output_type": "stream",
     "text": [
      "/home/kicompute/venv/lib/python3.6/site-packages/sklearn/linear_model/logistic.py:432: FutureWarning: Default solver will be changed to 'lbfgs' in 0.22. Specify a solver to silence this warning.\n",
      "  FutureWarning)\n",
      "  2%|▏         | 158/7500 [00:00<00:04, 1574.85it/s]"
     ]
    },
    {
     "name": "stdout",
     "output_type": "stream",
     "text": [
      "F1 Score on Validation Set 0.8848\n",
      "Size of gold set  17500\n"
     ]
    },
    {
     "name": "stderr",
     "output_type": "stream",
     "text": [
      "100%|██████████| 7500/7500 [00:04<00:00, 1653.20it/s]\n"
     ]
    },
    {
     "name": "stdout",
     "output_type": "stream",
     "text": [
      "Size of weak supervision set : 4078\n"
     ]
    },
    {
     "name": "stderr",
     "output_type": "stream",
     "text": [
      "/home/kicompute/venv/lib/python3.6/site-packages/sklearn/linear_model/logistic.py:432: FutureWarning: Default solver will be changed to 'lbfgs' in 0.22. Specify a solver to silence this warning.\n",
      "  FutureWarning)\n",
      "  3%|▎         | 162/6250 [00:00<00:03, 1619.43it/s]"
     ]
    },
    {
     "name": "stdout",
     "output_type": "stream",
     "text": [
      "F1 Score on Validation Set 0.88796\n",
      "Size of gold set  18750\n"
     ]
    },
    {
     "name": "stderr",
     "output_type": "stream",
     "text": [
      "100%|██████████| 6250/6250 [00:03<00:00, 1621.89it/s]\n"
     ]
    },
    {
     "name": "stdout",
     "output_type": "stream",
     "text": [
      "Size of weak supervision set : 3395\n"
     ]
    },
    {
     "name": "stderr",
     "output_type": "stream",
     "text": [
      "/home/kicompute/venv/lib/python3.6/site-packages/sklearn/linear_model/logistic.py:432: FutureWarning: Default solver will be changed to 'lbfgs' in 0.22. Specify a solver to silence this warning.\n",
      "  FutureWarning)\n",
      "  3%|▎         | 160/5000 [00:00<00:03, 1590.44it/s]"
     ]
    },
    {
     "name": "stdout",
     "output_type": "stream",
     "text": [
      "F1 Score on Validation Set 0.893\n",
      "Size of gold set  20000\n"
     ]
    },
    {
     "name": "stderr",
     "output_type": "stream",
     "text": [
      "100%|██████████| 5000/5000 [00:03<00:00, 1651.55it/s]\n"
     ]
    },
    {
     "name": "stdout",
     "output_type": "stream",
     "text": [
      "Size of weak supervision set : 2695\n"
     ]
    },
    {
     "name": "stderr",
     "output_type": "stream",
     "text": [
      "/home/kicompute/venv/lib/python3.6/site-packages/sklearn/linear_model/logistic.py:432: FutureWarning: Default solver will be changed to 'lbfgs' in 0.22. Specify a solver to silence this warning.\n",
      "  FutureWarning)\n",
      "  4%|▍         | 156/3750 [00:00<00:02, 1553.11it/s]"
     ]
    },
    {
     "name": "stdout",
     "output_type": "stream",
     "text": [
      "F1 Score on Validation Set 0.8988000000000002\n",
      "Size of gold set  21250\n"
     ]
    },
    {
     "name": "stderr",
     "output_type": "stream",
     "text": [
      "100%|██████████| 3750/3750 [00:02<00:00, 1644.94it/s]\n"
     ]
    },
    {
     "name": "stdout",
     "output_type": "stream",
     "text": [
      "Size of weak supervision set : 2024\n"
     ]
    },
    {
     "name": "stderr",
     "output_type": "stream",
     "text": [
      "/home/kicompute/venv/lib/python3.6/site-packages/sklearn/linear_model/logistic.py:432: FutureWarning: Default solver will be changed to 'lbfgs' in 0.22. Specify a solver to silence this warning.\n",
      "  FutureWarning)\n",
      "  6%|▌         | 153/2500 [00:00<00:01, 1521.10it/s]"
     ]
    },
    {
     "name": "stdout",
     "output_type": "stream",
     "text": [
      "F1 Score on Validation Set 0.90132\n",
      "Size of gold set  22500\n"
     ]
    },
    {
     "name": "stderr",
     "output_type": "stream",
     "text": [
      "100%|██████████| 2500/2500 [00:01<00:00, 1549.70it/s]\n"
     ]
    },
    {
     "name": "stdout",
     "output_type": "stream",
     "text": [
      "Size of weak supervision set : 1351\n"
     ]
    },
    {
     "name": "stderr",
     "output_type": "stream",
     "text": [
      "/home/kicompute/venv/lib/python3.6/site-packages/sklearn/linear_model/logistic.py:432: FutureWarning: Default solver will be changed to 'lbfgs' in 0.22. Specify a solver to silence this warning.\n",
      "  FutureWarning)\n",
      " 13%|█▎        | 165/1250 [00:00<00:00, 1649.54it/s]"
     ]
    },
    {
     "name": "stdout",
     "output_type": "stream",
     "text": [
      "F1 Score on Validation Set 0.90436\n",
      "Size of gold set  23750\n"
     ]
    },
    {
     "name": "stderr",
     "output_type": "stream",
     "text": [
      "100%|██████████| 1250/1250 [00:00<00:00, 1635.22it/s]\n"
     ]
    },
    {
     "name": "stdout",
     "output_type": "stream",
     "text": [
      "Size of weak supervision set : 676\n"
     ]
    },
    {
     "name": "stderr",
     "output_type": "stream",
     "text": [
      "/home/kicompute/venv/lib/python3.6/site-packages/sklearn/linear_model/logistic.py:432: FutureWarning: Default solver will be changed to 'lbfgs' in 0.22. Specify a solver to silence this warning.\n",
      "  FutureWarning)\n"
     ]
    },
    {
     "name": "stdout",
     "output_type": "stream",
     "text": [
      "F1 Score on Validation Set 0.9062799999999999\n",
      "Size of gold set  25000\n"
     ]
    },
    {
     "name": "stderr",
     "output_type": "stream",
     "text": [
      "/home/kicompute/venv/lib/python3.6/site-packages/sklearn/linear_model/logistic.py:432: FutureWarning: Default solver will be changed to 'lbfgs' in 0.22. Specify a solver to silence this warning.\n",
      "  FutureWarning)\n"
     ]
    },
    {
     "name": "stdout",
     "output_type": "stream",
     "text": [
      "F1 Score on Validation Set 0.90964\n"
     ]
    }
   ],
   "source": [
    "def get_weak_set(pd_train,applier):\n",
    "    L_train = applier.apply(df=pd_train[['text']])\n",
    "    majority_model = MajorityLabelVoter()\n",
    "    preds_train_maj = majority_model.predict(L=L_train)    \n",
    "    df_train_filtered, preds_train_filtered = custom_filter(pd_train,preds_train_maj)\n",
    "    # preds_train_filtered = probs_to_preds(probs=probs_train_filtered)\n",
    "    labeled_pd = pd.DataFrame({'text':df_train_filtered['text'],'label':preds_train_filtered})\n",
    "    return labeled_pd\n",
    "\n",
    "max_feats = 250000\n",
    "data_split1 = list(range(100,1200,100))  # Fine grained Split\n",
    "data_split2 = list(range(5,105,5))       # Coarser Split\n",
    "\n",
    "f1_scores_ws = []\n",
    "for i,split in enumerate(data_split1+data_split2):\n",
    "    if i < len(data_split1):\n",
    "        thresh = int(split)\n",
    "    else:\n",
    "        thresh = int(split*len(x_train)/100)\n",
    "    gold_set = pd.DataFrame({'text':x_train_orig[:thresh],'label':y_train[:thresh]})\n",
    "    print(\"Size of gold set \",len(gold_set))\n",
    "    weak_set = pd.DataFrame({'text':x_train_orig[thresh:]})\n",
    "    if len(weak_set) > 0:\n",
    "        weak_set = weak_set.reset_index()\n",
    "        weak_supervision_set = get_weak_set(weak_set,applier)\n",
    "        print(\"Size of weak supervision set :\",len(weak_supervision_set))\n",
    "        final_set = pd.concat([gold_set,weak_supervision_set])\n",
    "    else:\n",
    "        final_set = gold_set\n",
    "    encoded_tokens_train = [tokenizer.encode(str(each)).tokens for each in final_set['text']]\n",
    "    encoded_tokens_train = [\" \".join(each)  for each in encoded_tokens_train]    \n",
    "    dtm_train, dtm_test = get_cv(encoded_tokens_train,x_test,max_feats)\n",
    "    model,log_rat = get_nbsvm_model(dtm_train,np.array(final_set['label']))\n",
    "    y_pred_prob = model.predict_proba(dtm_test.multiply(log_rat))\n",
    "    # y_pred_prob = model.predict_proba(test_term_doc)\n",
    "    y_pred = np.argmax(y_pred_prob,axis=1)\n",
    "    print(\"F1 Score on Validation Set\", f1_score(y_test, y_pred,average='micro'))\n",
    "    f1_scores_ws.append(f1_score(y_test, y_pred,average='micro'))\n",
    "\n",
    "\n"
   ]
  },
  {
   "cell_type": "code",
   "execution_count": 31,
   "metadata": {},
   "outputs": [],
   "source": [
    "np.save(\"f1_scores_ws.npy\",f1_scores_ws)"
   ]
  },
  {
   "cell_type": "code",
   "execution_count": 32,
   "metadata": {},
   "outputs": [
    {
     "data": {
      "text/html": [
       "<div>\n",
       "<style scoped>\n",
       "    .dataframe tbody tr th:only-of-type {\n",
       "        vertical-align: middle;\n",
       "    }\n",
       "\n",
       "    .dataframe tbody tr th {\n",
       "        vertical-align: top;\n",
       "    }\n",
       "\n",
       "    .dataframe thead th {\n",
       "        text-align: right;\n",
       "    }\n",
       "</style>\n",
       "<table border=\"1\" class=\"dataframe\">\n",
       "  <thead>\n",
       "    <tr style=\"text-align: right;\">\n",
       "      <th></th>\n",
       "      <th>data_size</th>\n",
       "      <th>f1</th>\n",
       "      <th>f1_ws</th>\n",
       "    </tr>\n",
       "  </thead>\n",
       "  <tbody>\n",
       "    <tr>\n",
       "      <th>0</th>\n",
       "      <td>100</td>\n",
       "      <td>0.71616</td>\n",
       "      <td>0.74088</td>\n",
       "    </tr>\n",
       "    <tr>\n",
       "      <th>1</th>\n",
       "      <td>200</td>\n",
       "      <td>0.74296</td>\n",
       "      <td>0.74468</td>\n",
       "    </tr>\n",
       "    <tr>\n",
       "      <th>2</th>\n",
       "      <td>300</td>\n",
       "      <td>0.79036</td>\n",
       "      <td>0.74584</td>\n",
       "    </tr>\n",
       "    <tr>\n",
       "      <th>3</th>\n",
       "      <td>400</td>\n",
       "      <td>0.79932</td>\n",
       "      <td>0.74764</td>\n",
       "    </tr>\n",
       "    <tr>\n",
       "      <th>4</th>\n",
       "      <td>500</td>\n",
       "      <td>0.80224</td>\n",
       "      <td>0.75020</td>\n",
       "    </tr>\n",
       "    <tr>\n",
       "      <th>5</th>\n",
       "      <td>600</td>\n",
       "      <td>0.82584</td>\n",
       "      <td>0.75428</td>\n",
       "    </tr>\n",
       "    <tr>\n",
       "      <th>6</th>\n",
       "      <td>700</td>\n",
       "      <td>0.83648</td>\n",
       "      <td>0.75752</td>\n",
       "    </tr>\n",
       "    <tr>\n",
       "      <th>7</th>\n",
       "      <td>800</td>\n",
       "      <td>0.84384</td>\n",
       "      <td>0.75836</td>\n",
       "    </tr>\n",
       "    <tr>\n",
       "      <th>8</th>\n",
       "      <td>900</td>\n",
       "      <td>0.84720</td>\n",
       "      <td>0.75988</td>\n",
       "    </tr>\n",
       "    <tr>\n",
       "      <th>9</th>\n",
       "      <td>1000</td>\n",
       "      <td>0.84848</td>\n",
       "      <td>0.76256</td>\n",
       "    </tr>\n",
       "    <tr>\n",
       "      <th>10</th>\n",
       "      <td>1100</td>\n",
       "      <td>0.85456</td>\n",
       "      <td>0.76348</td>\n",
       "    </tr>\n",
       "    <tr>\n",
       "      <th>11</th>\n",
       "      <td>1250</td>\n",
       "      <td>0.85512</td>\n",
       "      <td>0.76636</td>\n",
       "    </tr>\n",
       "    <tr>\n",
       "      <th>12</th>\n",
       "      <td>2500</td>\n",
       "      <td>0.87264</td>\n",
       "      <td>0.78220</td>\n",
       "    </tr>\n",
       "    <tr>\n",
       "      <th>13</th>\n",
       "      <td>3750</td>\n",
       "      <td>0.88480</td>\n",
       "      <td>0.79588</td>\n",
       "    </tr>\n",
       "    <tr>\n",
       "      <th>14</th>\n",
       "      <td>5000</td>\n",
       "      <td>0.89088</td>\n",
       "      <td>0.80988</td>\n",
       "    </tr>\n",
       "    <tr>\n",
       "      <th>15</th>\n",
       "      <td>6250</td>\n",
       "      <td>0.89520</td>\n",
       "      <td>0.82120</td>\n",
       "    </tr>\n",
       "    <tr>\n",
       "      <th>16</th>\n",
       "      <td>7500</td>\n",
       "      <td>0.89636</td>\n",
       "      <td>0.83168</td>\n",
       "    </tr>\n",
       "    <tr>\n",
       "      <th>17</th>\n",
       "      <td>8750</td>\n",
       "      <td>0.89848</td>\n",
       "      <td>0.84208</td>\n",
       "    </tr>\n",
       "    <tr>\n",
       "      <th>18</th>\n",
       "      <td>10000</td>\n",
       "      <td>0.90068</td>\n",
       "      <td>0.84960</td>\n",
       "    </tr>\n",
       "    <tr>\n",
       "      <th>19</th>\n",
       "      <td>11250</td>\n",
       "      <td>0.90360</td>\n",
       "      <td>0.85816</td>\n",
       "    </tr>\n",
       "    <tr>\n",
       "      <th>20</th>\n",
       "      <td>12500</td>\n",
       "      <td>0.90484</td>\n",
       "      <td>0.86624</td>\n",
       "    </tr>\n",
       "    <tr>\n",
       "      <th>21</th>\n",
       "      <td>13750</td>\n",
       "      <td>0.90436</td>\n",
       "      <td>0.87368</td>\n",
       "    </tr>\n",
       "    <tr>\n",
       "      <th>22</th>\n",
       "      <td>15000</td>\n",
       "      <td>0.90424</td>\n",
       "      <td>0.87944</td>\n",
       "    </tr>\n",
       "    <tr>\n",
       "      <th>23</th>\n",
       "      <td>16250</td>\n",
       "      <td>0.90480</td>\n",
       "      <td>0.88480</td>\n",
       "    </tr>\n",
       "    <tr>\n",
       "      <th>24</th>\n",
       "      <td>17500</td>\n",
       "      <td>0.90660</td>\n",
       "      <td>0.88796</td>\n",
       "    </tr>\n",
       "    <tr>\n",
       "      <th>25</th>\n",
       "      <td>18750</td>\n",
       "      <td>0.90796</td>\n",
       "      <td>0.89300</td>\n",
       "    </tr>\n",
       "    <tr>\n",
       "      <th>26</th>\n",
       "      <td>20000</td>\n",
       "      <td>0.90764</td>\n",
       "      <td>0.89880</td>\n",
       "    </tr>\n",
       "    <tr>\n",
       "      <th>27</th>\n",
       "      <td>21250</td>\n",
       "      <td>0.90780</td>\n",
       "      <td>0.90132</td>\n",
       "    </tr>\n",
       "    <tr>\n",
       "      <th>28</th>\n",
       "      <td>22500</td>\n",
       "      <td>0.90828</td>\n",
       "      <td>0.90436</td>\n",
       "    </tr>\n",
       "    <tr>\n",
       "      <th>29</th>\n",
       "      <td>23750</td>\n",
       "      <td>0.90832</td>\n",
       "      <td>0.90628</td>\n",
       "    </tr>\n",
       "    <tr>\n",
       "      <th>30</th>\n",
       "      <td>25000</td>\n",
       "      <td>0.90964</td>\n",
       "      <td>0.90964</td>\n",
       "    </tr>\n",
       "  </tbody>\n",
       "</table>\n",
       "</div>"
      ],
      "text/plain": [
       "    data_size       f1    f1_ws\n",
       "0         100  0.71616  0.74088\n",
       "1         200  0.74296  0.74468\n",
       "2         300  0.79036  0.74584\n",
       "3         400  0.79932  0.74764\n",
       "4         500  0.80224  0.75020\n",
       "5         600  0.82584  0.75428\n",
       "6         700  0.83648  0.75752\n",
       "7         800  0.84384  0.75836\n",
       "8         900  0.84720  0.75988\n",
       "9        1000  0.84848  0.76256\n",
       "10       1100  0.85456  0.76348\n",
       "11       1250  0.85512  0.76636\n",
       "12       2500  0.87264  0.78220\n",
       "13       3750  0.88480  0.79588\n",
       "14       5000  0.89088  0.80988\n",
       "15       6250  0.89520  0.82120\n",
       "16       7500  0.89636  0.83168\n",
       "17       8750  0.89848  0.84208\n",
       "18      10000  0.90068  0.84960\n",
       "19      11250  0.90360  0.85816\n",
       "20      12500  0.90484  0.86624\n",
       "21      13750  0.90436  0.87368\n",
       "22      15000  0.90424  0.87944\n",
       "23      16250  0.90480  0.88480\n",
       "24      17500  0.90660  0.88796\n",
       "25      18750  0.90796  0.89300\n",
       "26      20000  0.90764  0.89880\n",
       "27      21250  0.90780  0.90132\n",
       "28      22500  0.90828  0.90436\n",
       "29      23750  0.90832  0.90628\n",
       "30      25000  0.90964  0.90964"
      ]
     },
     "execution_count": 32,
     "metadata": {},
     "output_type": "execute_result"
    }
   ],
   "source": [
    "data_split = data_split1 + [int(each/100*len(x_train)) for each in data_split2]\n",
    "weak_supervision_scores = pd.DataFrame({'data_size':data_split,'f1':f1_scores,'f1_ws':f1_scores_ws})\n",
    "weak_supervision_scores"
   ]
  },
  {
   "cell_type": "code",
   "execution_count": 33,
   "metadata": {},
   "outputs": [
    {
     "data": {
      "text/plain": [
       "<Figure size 432x288 with 0 Axes>"
      ]
     },
     "metadata": {},
     "output_type": "display_data"
    },
    {
     "data": {
      "image/png": "[encoded data removed]",
      "text/plain": [
       "<Figure size 1080x576 with 1 Axes>"
      ]
     },
     "metadata": {
      "needs_background": "light"
     },
     "output_type": "display_data"
    }
   ],
   "source": [
    "# Plot the f1 scores by data sizes\n",
    "plt.clf()\n",
    "plt.figure(figsize=(15,8))\n",
    "ax = sn.lineplot(data=weak_supervision_scores, x=\"data_size\", y=\"f1_ws\")\n",
    "ax.set(xlabel='Data Used', ylabel='f1 scores with Weak Supervision')\n",
    "plt.show()\n",
    "# plt.savefig(\"data_split_ws_scores.jpg\")"
   ]
  },
  {
   "cell_type": "code",
   "execution_count": null,
   "metadata": {},
   "outputs": [],
   "source": []
  }
 ],
 "metadata": {
  "kernelspec": {
   "display_name": "Python 3",
   "language": "python",
   "name": "python3"
  },
  "language_info": {
   "codemirror_mode": {
    "name": "ipython",
    "version": 3
   },
   "file_extension": ".py",
   "mimetype": "text/x-python",
   "name": "python",
   "nbconvert_exporter": "python",
   "pygments_lexer": "ipython3",
   "version": "3.6.9"
  }
 },
 "nbformat": 4,
 "nbformat_minor": 4
}
