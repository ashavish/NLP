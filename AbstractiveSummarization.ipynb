{
 "cells": [
  {
   "cell_type": "markdown",
   "metadata": {},
   "source": [
    "### Common Functions"
   ]
  },
  {
   "cell_type": "code",
   "execution_count": 17,
   "metadata": {},
   "outputs": [],
   "source": [
    "import os\n",
    "\n",
    "def initialize_bart():\n",
    "    from transformers import BartTokenizer, BartForConditionalGeneration, BartConfig\n",
    "    model = BartForConditionalGeneration.from_pretrained('facebook/bart-large-cnn')\n",
    "    tokenizer = BartTokenizer.from_pretrained('facebook/bart-large-cnn')\n",
    "    return model, tokenizer\n",
    "\n",
    "def initialize_t5(t5_model):\n",
    "    from transformers import AutoModelWithLMHead, AutoTokenizer\n",
    "    model = AutoModelWithLMHead.from_pretrained(t5_model, return_dict=True)\n",
    "    tokenizer = AutoTokenizer.from_pretrained(t5_model)\n",
    "    return model,tokenizer\n",
    "\n",
    "def summarize_t5(text,model,tokenizer):\n",
    "    # T5 uses a max_length of 512 so we cut the article to 512 tokens.\n",
    "    inputs = tokenizer.encode(\"summarize: \" + text, return_tensors=\"pt\", max_length=512)\n",
    "    outputs = model.generate(inputs, max_length=150, min_length=40, length_penalty=2.0, num_beams=4, early_stopping=True)\n",
    "    summary = [tokenizer.decode(g) for g in outputs]\n",
    "    return summary\n",
    "\n",
    "\n",
    "def summarize_bart(text,model,tokenizer):\n",
    "    inputs = tokenizer([text], max_length=1024, return_tensors='pt')\n",
    "    # Generate Summary\n",
    "    summary_ids = model.generate(inputs['input_ids'], num_beams=4, max_length=150, early_stopping=True)\n",
    "    summary = [tokenizer.decode(g, skip_special_tokens=True, clean_up_tokenization_spaces=False) for g in summary_ids]\n",
    "    return summary\n",
    "\n",
    "\n",
    "def summarize_gpt3(text):\n",
    "    import openai\n",
    "    openai.api_key = os.environ.get('GPT3_API_KEY')\n",
    "    prompt = text + \"Summarizing this we can say\"\n",
    "    response = openai.Completion.create(engine=\"davinci\", prompt=prompt, stop=\"\\n\\n\", temperature=0.7, max_tokens=150)\n",
    "    return response\n"
   ]
  },
  {
   "cell_type": "code",
   "execution_count": 3,
   "metadata": {},
   "outputs": [],
   "source": [
    "#!pip install transformers"
   ]
  },
  {
   "cell_type": "code",
   "execution_count": 16,
   "metadata": {},
   "outputs": [
    {
     "data": {
      "text/plain": [
       "'\"sk-WYfx2w0AwDkwBxyixWfl77Cy2VYhOgWvQOlQbVqc\"'"
      ]
     },
     "execution_count": 16,
     "metadata": {},
     "output_type": "execute_result"
    }
   ],
   "source": [
    "os.environ.get('GPT3_API_KEY')"
   ]
  },
  {
   "cell_type": "markdown",
   "metadata": {},
   "source": [
    "### Text Input"
   ]
  },
  {
   "cell_type": "code",
   "execution_count": 6,
   "metadata": {},
   "outputs": [],
   "source": [
    "text = \"In 1848, a revolution led by the educated middle classes was underway. Men and women of the liberal middle class demanded creation of a nation-state on parliamentary principles – a constitution, freedom of the press and freedom of association.A large number of political associations came together in Frankfurt to vote for an all-German National Assembly. On 18 May 1848, 831 elected representatives marched to take their places in the Frankfurt parliament convened in the Church of St Paul.The Constitution drafted for German nation was headed by a monarchy, subject to a Parliament. The Crown was offered to Friedrich Wilhelm IV, King of Prussia but he rejected it and joined other monarchs to oppose the elected assembly. The Middle Class dominated the Parliament and a large number of women participated in liberal movement.Women formed their own political associations, founded newspapers and took part in political meetings and demonstrations, but they were still denied suffrage rights during the election of the Assembly.In the years after 1848, the autocratic monarchies of Central and Eastern Europe began to introduce the changes that had already taken place in Western Europe before 1815. Thus, serfdom and bonded labour were abolished both in the Habsburg dominions and in Russia.\"\n"
   ]
  },
  {
   "cell_type": "markdown",
   "metadata": {},
   "source": [
    "### Checking Different Models"
   ]
  },
  {
   "cell_type": "markdown",
   "metadata": {},
   "source": [
    "**t5 model**"
   ]
  },
  {
   "cell_type": "code",
   "execution_count": 11,
   "metadata": {},
   "outputs": [
    {
     "name": "stderr",
     "output_type": "stream",
     "text": [
      "Some weights of the model checkpoint at t5-base were not used when initializing T5ForConditionalGeneration: ['decoder.block.0.layer.1.EncDecAttention.relative_attention_bias.weight']\n",
      "- This IS expected if you are initializing T5ForConditionalGeneration from the checkpoint of a model trained on another task or with another architecture (e.g. initializing a BertForSequenceClassification model from a BertForPreTraining model).\n",
      "- This IS NOT expected if you are initializing T5ForConditionalGeneration from the checkpoint of a model that you expect to be exactly identical (initializing a BertForSequenceClassification model from a BertForSequenceClassification model).\n",
      "Truncation was not explicitly activated but `max_length` is provided a specific value, please use `truncation=True` to explicitly truncate examples to max length. Defaulting to 'longest_first' truncation strategy. If you encode pairs of sequences (GLUE-style) with the tokenizer you can select this strategy more precisely by providing a specific strategy to `truncation`.\n"
     ]
    },
    {
     "name": "stdout",
     "output_type": "stream",
     "text": [
      "['<pad> in 1848, a revolution led by the educated middle class was underway. men and women of the liberal middle class demanded creation of a nation-state on parliamentary principles – a constitution, freedom of the press and freedom of association.</s>']\n"
     ]
    }
   ],
   "source": [
    "t5_model = \"t5-base\"\n",
    "t5model,t5tokenizer = initialize_t5(t5_model)\n",
    "summary_t5 = summarize_t5(text,t5model,t5tokenizer)\n",
    "print(summary_t5)"
   ]
  },
  {
   "cell_type": "markdown",
   "metadata": {},
   "source": [
    "**Bart**"
   ]
  },
  {
   "cell_type": "code",
   "execution_count": 58,
   "metadata": {},
   "outputs": [
    {
     "name": "stderr",
     "output_type": "stream",
     "text": [
      "Truncation was not explicitly activated but `max_length` is provided a specific value, please use `truncation=True` to explicitly truncate examples to max length. Defaulting to 'longest_first' truncation strategy. If you encode pairs of sequences (GLUE-style) with the tokenizer you can select this strategy more precisely by providing a specific strategy to `truncation`.\n"
     ]
    },
    {
     "name": "stdout",
     "output_type": "stream",
     "text": [
      "['In 1848, a revolution led by the educated middle classes was underway. Men and women of the liberal middle class demanded creation of a nation-state on parliamentary principles. A large number of political associations came together in Frankfurt to vote for an all-German National Assembly. The Constitution drafted for German nation was headed by a monarchy, subject to a Parliament.']\n"
     ]
    }
   ],
   "source": [
    "bart_model,bart_tokenizer = initialize_bart()\n",
    "summary_bart = summarize_bart(text,bart_model,bart_tokenizer)\n",
    "print(summary_bart)"
   ]
  },
  {
   "cell_type": "markdown",
   "metadata": {},
   "source": [
    "**GPT3 model**"
   ]
  },
  {
   "cell_type": "code",
   "execution_count": 25,
   "metadata": {},
   "outputs": [
    {
     "name": "stdout",
     "output_type": "stream",
     "text": [
      "the events of 1848 had become a turning point in the history of Europe. The liberal revolutions had failed, but the changes introduced by them remained. The Industrial Revolution was destroying old production methods and creating a new society. The middle class had become aware of its strength and the working class was growing in numbers. The bourgeoisie was becoming a new ruling class.\n"
     ]
    }
   ],
   "source": [
    "summary_gpt3_output = summarize_gpt3(text)\n",
    "summary_gpt3 = summary_gpt3_output['choices'][0]['text']\n",
    "summary_gpt3 = \" \".join(summary_gpt3.split()[1:])\n",
    "print(summary_gpt3)"
   ]
  },
  {
   "cell_type": "markdown",
   "metadata": {},
   "source": [
    "**BertSum**"
   ]
  },
  {
   "cell_type": "code",
   "execution_count": 51,
   "metadata": {},
   "outputs": [
    {
     "name": "stdout",
     "output_type": "stream",
     "text": [
      "In 1848, a revolution led by the educated middle classes was underway. The Middle Class dominated the Parliament and a large number of women participated in liberal movement. Thus, serfdom and bonded labour were abolished both in the Habsburg dominions and in Russia.\n"
     ]
    }
   ],
   "source": [
    "from summarizer import Summarizer\n",
    "bertsum_model = Summarizer()\n",
    "result = bertsum_model(text, min_length=20)\n",
    "summary_bertsum = \"\".join(result)\n",
    "print(summary_bertsum)"
   ]
  },
  {
   "cell_type": "markdown",
   "metadata": {},
   "source": [
    "### Generating Questions from Original Text + Abstractive Text"
   ]
  },
  {
   "cell_type": "code",
   "execution_count": 66,
   "metadata": {},
   "outputs": [],
   "source": [
    "\n",
    "import spacy\n",
    "\n",
    "\n",
    "def token_checks(sent):\n",
    "    root_token = None\n",
    "    root_token_indx = 0\n",
    "    verb_cnt = 0\n",
    "    verb_children = {}\n",
    "    verb_list = []\n",
    "    tense = \"\"\n",
    "    for indx,token in enumerate(sent):        \n",
    "        text = token.text\n",
    "        if token.dep_ == \"ROOT\":\n",
    "            root_token = token\n",
    "            root_token_indx = indx\n",
    "            tense = token.tag_\n",
    "            token_children = [child for child in token.children]\n",
    "            verb_children[token.text] = token_children\n",
    "        if token.pos_ == \"VERB\":\n",
    "            verb_cnt = verb_cnt + 1\n",
    "            token_children = [child for child in token.children]\n",
    "            verb_children[token.text] = token_children\n",
    "            verb_list.append([indx,token])\n",
    "    token_result = {'root_token':root_token,'root_token_indx':root_token_indx,'verb_cnt':verb_cnt,\n",
    "                    'verb_list':verb_list,'verb_children':verb_children,\"tense\":tense}\n",
    "    return token_result\n",
    "\n",
    "\n",
    "def fill_in_the_blanks(sent,ent):\n",
    "    new_sent = sent.text.replace(ent.text,\"_____\")\n",
    "    return new_sent\n",
    "\n",
    "\n",
    "def check_when(sent,ent):\n",
    "    token_result = token_checks(sent)\n",
    "    if 'was' in token_result['verb_children']:\n",
    "        return None\n",
    "    verb_cnt = 0\n",
    "    root_token_indx = token_result['root_token_indx']\n",
    "    token_text = [token.text for token in sent]\n",
    "    token_text[root_token_indx] = token_result['root_token'].lemma_\n",
    "    question = \" \".join(token_text).lower()\n",
    "    question = question.replace(\"on \" + ent.text.lower(),\"\")\n",
    "    question = question.replace(\"in \" + ent.text.lower(),\"\")\n",
    "    question = question.replace(ent.text,\"\")\n",
    "    if question.split()[0] in [\",\",\"a\",\"an\"]:\n",
    "        question = \" \".join(question.split()[1:])\n",
    "    if question.split()[-1] == \".\":\n",
    "        question = \" \".join(question.split()[:-1])\n",
    "    question = \"When did \" + question + \" ?\"\n",
    "    return question\n",
    "\n",
    "def check_who(sent,ent):\n",
    "    subject_flag = -1\n",
    "    subject_text = \"\"\n",
    "    object_text = \"\"\n",
    "    verb = \"\"\n",
    "    verb_cnt = 0\n",
    "    for chunk in sent.noun_chunks:\n",
    "        if ent.text in chunk.text and \"nsubj\" in chunk.root.dep_:\n",
    "            subject_flag = 1\n",
    "        if ent.text in chunk.text and \"obj\" in chunk.root.dep_:\n",
    "            subject_flag = 0        \n",
    "        if \"nsubj\" in chunk.root.dep_:\n",
    "            subject_text = chunk.text\n",
    "        if \"obj\" in chunk.root.dep_:\n",
    "            object_text = chunk.text        \n",
    "        # print(chunk.text, chunk.root.text, chunk.root.dep_,\n",
    "        #         chunk.root.head.text)\n",
    "    token_result = token_checks(sent)\n",
    "    verb = token_result['root_token'].text\n",
    "    if token_result['verb_cnt'] > 1:\n",
    "        return None\n",
    "    if subject_flag == 1:\n",
    "        question = \"Who \" + verb + \" \" + object_text  + \"?\"\n",
    "    else:\n",
    "        question = subject_text + \" was \" + verb + \" by whom ?\"\n",
    "    return question\n",
    "\n",
    "\n",
    "\n",
    "def check_what_how(sent):\n",
    "    subject_text = \"\"\n",
    "    object_text = \"\"\n",
    "    question = None\n",
    "    for chunk in sent.noun_chunks:\n",
    "        if \"nsubj\" in chunk.root.dep_ and subject_text == \"\":\n",
    "            subject_text = chunk.text\n",
    "        if \"obj\" in chunk.root.dep_ and object_text == \"\":\n",
    "            object_text = chunk.text\n",
    "        # print(chunk.text, chunk.root.text, chunk.root.dep_,\n",
    "        #         chunk.root.head.text)\n",
    "    token_result = token_checks(sent)\n",
    "    root_token_indx = token_result['root_token_indx']\n",
    "    token_text = [token.text for token in sent]\n",
    "    tokens_before_root = token_text[:root_token_indx]\n",
    "    tokens_after_root = token_text[root_token_indx+1:]\n",
    "    tense = token_result['tense']\n",
    "    verb = token_result['root_token']\n",
    "    if tokens_after_root[-1] == \".\":\n",
    "        tokens_after_root = tokens_after_root[:-1]\n",
    "\n",
    "    joining_words = [verb_text.text for verb_text in token_result['verb_children'][verb.text] if verb_text.pos_==\"ADV\"]\n",
    "    ending = \" ?\"            \n",
    "    if len(joining_words) > 0:\n",
    "        ending = \" \" + \" \".join(joining_words) + \" ?\"\n",
    "    if \"for\" in [verb_text.text for verb_text in token_result['verb_children'][verb.text]]:\n",
    "        if len(joining_words) > 0:\n",
    "            ending = \" \" + \" \".join(joining_words) + \" for ?\"\n",
    "        else:\n",
    "            ending = \" for ?\"\n",
    "    if \"was\" not in sent.text and \"were\" not in sent.text:\n",
    "        if token_result['verb_cnt'] > 1:\n",
    "            verb2 = token_result['verb_list'][1][1].text        \n",
    "            if \"to\" in [verb_text.text for verb_text in token_result['verb_children'][verb2]]:\n",
    "                # why question\n",
    "                question =  \"Why did \" + \" \".join(tokens_before_root).lower() + \" \" + verb.lemma_ + ending.lower()\n",
    "                return question\n",
    "    if \"was\" not in sent.text and \"were\" not in sent.text:\n",
    "        if tense == \"VBD\":\n",
    "            question = \"What did \" + \" \".join(tokens_before_root).lower() + \" \" + verb.lemma_ + ending.lower()\n",
    "            # print(question)\n",
    "        if tense == \"VBN\":\n",
    "            question = \"What did \" + \" \".join(tokens_after_root).lower() + \" \" + verb.lemma_ + ending.lower()\n",
    "            # print(question)\n",
    "    if \"was\" in sent.text:\n",
    "        if verb.text != \"was\":\n",
    "            question = \"What was \" + verb.text + \" \" + \"\".join(\" \".join(tokens_after_root).lower().split(\",\")[0]) + \"?\"\n",
    "        # print(question)\n",
    "        else:\n",
    "            question = \"What was \" + \"\".join(\" \".join(tokens_before_root).lower().split(\",\")[0]) + \"?\"\n",
    "    return question\n",
    "\n",
    "\n",
    "def generate_questions(text):\n",
    "    nlp = spacy.load(\"en_core_web_sm\")\n",
    "    doc = nlp(text)\n",
    "    for sent in doc.sents:  \n",
    "#         print(sent.text)\n",
    "#         print(\"=======\")\n",
    "        what_flag = True\n",
    "        for ent in sent.ents:\n",
    "            # print(ent.text, ent.start_char, ent.end_char, ent.label_)\n",
    "            # When questions\n",
    "            question = None\n",
    "            if ent.label_ == \"DATE\":\n",
    "                if text[:ent.start_char - 1].lower().split()[-1] in [\"on\",\"in\"]:\n",
    "                    question = check_when(sent,ent)\n",
    "                what_flag = False\n",
    "                if not question:\n",
    "                    question = fill_in_the_blanks(sent,ent)\n",
    "                print(question)\n",
    "            # Who questions\n",
    "            if ent.label_ == \"PERSON\":\n",
    "                question = check_who(sent,ent)\n",
    "                what_flag = False\n",
    "                if not question:\n",
    "                    question = fill_in_the_blanks(sent,ent) \n",
    "                print(question)\n",
    "        # What questions               \n",
    "        if what_flag:\n",
    "            question = check_what_how(sent)\n",
    "            if question:\n",
    "                print(question)\n",
    "            # How questions\n",
    "            # Why questions\n",
    "\n"
   ]
  },
  {
   "cell_type": "code",
   "execution_count": 48,
   "metadata": {},
   "outputs": [
    {
     "name": "stdout",
     "output_type": "stream",
     "text": [
      "In _____, a revolution led by the educated middle classes was underway.\n",
      "What did men and women of the liberal middle class demand ?\n",
      "Why did a large number of political associations come together ?\n",
      "What was headed by a monarchy ?\n"
     ]
    }
   ],
   "source": [
    "generate_questions(summary_bart[0])"
   ]
  },
  {
   "cell_type": "code",
   "execution_count": 49,
   "metadata": {},
   "outputs": [
    {
     "name": "stdout",
     "output_type": "stream",
     "text": [
      "In _____, a revolution led by the educated middle classes was underway.\n",
      "What did men and women of the liberal middle class demand ?\n",
      "Why did a large number of political associations come together ?\n",
      "When did 831 elected representatives march to take their places in the frankfurt parliament convened in the church of st paul ?\n",
      "What was headed by a monarchy ?\n",
      "The Crown was offered by whom ?\n",
      "What did but he reject ?\n",
      "What did the middle class dominate ?\n",
      "In _____, the autocratic monarchies of Central and Eastern Europe began to introduce the changes that had already taken place in Western Europe before 1815.\n",
      "In the years after 1848, the autocratic monarchies of Central and Eastern Europe began to introduce the changes that had already taken place in Western Europe before _____.\n"
     ]
    }
   ],
   "source": [
    "generate_questions(text)"
   ]
  },
  {
   "cell_type": "code",
   "execution_count": 50,
   "metadata": {},
   "outputs": [
    {
     "name": "stdout",
     "output_type": "stream",
     "text": [
      "the events of _____ had become a turning point in the history of Europe.\n",
      "What did , but the changes introduced by them remained fail ?\n",
      "What was destroying old production methods and creating a new society?\n",
      "What was become aware of its strength and the working class was growing in numbers?\n",
      "What was becoming a new ruling class?\n"
     ]
    }
   ],
   "source": [
    "generate_questions(summary_gpt3)"
   ]
  },
  {
   "cell_type": "code",
   "execution_count": 53,
   "metadata": {},
   "outputs": [
    {
     "name": "stdout",
     "output_type": "stream",
     "text": [
      "In _____, a revolution led by the educated middle classes was underway.\n",
      "What did the middle class dominate ?\n"
     ]
    }
   ],
   "source": [
    "generate_questions(summary_bertsum)"
   ]
  },
  {
   "cell_type": "markdown",
   "metadata": {},
   "source": [
    "# Reading an image with text and creating questions around it"
   ]
  },
  {
   "cell_type": "code",
   "execution_count": 54,
   "metadata": {},
   "outputs": [
    {
     "name": "stdout",
     "output_type": "stream",
     "text": [
      "The most serious source of nationalist tension in Europe after 1871 -\n",
      "was the area called the Balkans. The Balkans was a region of © |\n",
      "geographical and ethnic variation comprising modern-day Romania,\n",
      "_ Bulgaria, Albania, Greece, Macedonia, Croatia, Bosnia-Herzegovina, .\n",
      "‘Slovenia, Serbia and Montenegro whose inhabitants were broadly\n",
      "known as the Slavs. A large part of the Balkans was under the control\n",
      "of the Ottoman Empire. The spread of the ideas of romantic\n",
      "nationalism in the Balkans together with the disintegration of the\n",
      "Ottoman Empire made this region very explosive. All through the\n",
      "nineteenth century the Ottoman Empire had sought to strengthen\n",
      "itself through modernisation and internal reforms but with very\n",
      "little success. One by one, its European subject nationalities broke\n",
      "away from its control and declared independence. The Balkan _\n",
      "peoples based their claims for independence or political tights on\n",
      "nationality and used history to prove that they had once been |\n",
      "‘independent but had subsequently been subjugated by toreign\n",
      "powers. Hence the rebellious nationalities in the Balkans thought of.\n",
      "their struggles as attempts to win back their long-lost independence.\n",
      "\f",
      "\n"
     ]
    }
   ],
   "source": [
    "import cv2\n",
    "import pytesseract\n",
    "from pytesseract import Output\n",
    "import numpy as np\n",
    "\n",
    "\n",
    "def get_grayscale(image):\n",
    "    return cv2.cvtColor(image, cv2.COLOR_BGR2GRAY)\n",
    "\n",
    "def blur_image(image):\n",
    "    return cv2.medianBlur(image,5)\n",
    " \n",
    "\n",
    "def thresholding(image):\n",
    "    return cv2.threshold(image, 0, 255, cv2.THRESH_BINARY + cv2.THRESH_OTSU)[1]\n",
    "\n",
    "\n",
    "def dilate(image):\n",
    "    kernel = np.ones((5,5),np.uint8)\n",
    "    return cv2.dilate(image, kernel, iterations = 1)\n",
    "    \n",
    "\n",
    "def erode(image):\n",
    "    kernel = np.ones((5,5),np.uint8)\n",
    "    return cv2.erode(image, kernel, iterations = 1)\n",
    "\n",
    "def opening(image):\n",
    "    kernel = np.ones((5,5),np.uint8)\n",
    "    return cv2.morphologyEx(image, cv2.MORPH_OPEN, kernel)\n",
    "\n",
    "def canny(image):\n",
    "    return cv2.Canny(image, 100, 200)\n",
    "\n",
    "\n",
    "image = cv2.imread(\"/home/asha/Downloads/IMG_20201207_172859.jpg\")\n",
    "gray = get_grayscale(image)\n",
    "thresh = thresholding(gray)\n",
    "open_img = opening(thresh)\n",
    "\n",
    "custom_config = r'--oem 3 --psm 6'\n",
    "data = pytesseract.image_to_string(open_img, lang='eng',config=custom_config)\n",
    "\n",
    "\n",
    "print(data)"
   ]
  },
  {
   "cell_type": "code",
   "execution_count": 56,
   "metadata": {},
   "outputs": [
    {
     "name": "stdout",
     "output_type": "stream",
     "text": [
      "The most serious source of nationalist tension in Europe after 1871  was the area called the Balkans. The Balkans was a region of   geographical and ethnic variation comprising modernday Romania,  Bulgaria, Albania, Greece, Macedonia, Croatia, BosniaHerzegovina,  Slovenia, Serbia and Montenegro whose inhabitants were broadly known as the Slavs. A large part of the Balkans was under the control of the Ottoman Empire. The spread of the ideas of romantic nationalism in the Balkans together with the disintegration of the Ottoman Empire made this region very explosive. All through the nineteenth century the Ottoman Empire had sought to strengthen itself through modernisation and internal reforms but with very little success. One by one, its European subject nationalities broke away from its control and declared independence. The Balkan  peoples based their claims for independence or political tights on nationality and used history to prove that they had once been  independent but had subsequently been subjugated by toreign powers. Hence the rebellious nationalities in the Balkans thought of their struggles as attempts to win back their longlost independence \n"
     ]
    }
   ],
   "source": [
    "import re\n",
    "\n",
    "def clean_data(txt):\n",
    "    txt = ''.join(i for i in txt if ord(i)<128)\n",
    "    txt = txt.replace(\".\\n\",\" \")\n",
    "    txt = txt.replace(\"\\n\",\" \")\n",
    "    symbs = \"‘-_|\\\\\"\n",
    "    translator = str.maketrans('', '', symbs)\n",
    "    txt = txt.translate(translator)\n",
    "    txt = re.sub(r'[\\x00-\\x08\\x0b\\x0c\\x0e-\\x1f\\x7f-\\xff]', '', txt)\n",
    "    return txt\n",
    "\n",
    "data = clean_data(data)\n",
    "print(data)\n"
   ]
  },
  {
   "cell_type": "code",
   "execution_count": 60,
   "metadata": {},
   "outputs": [
    {
     "name": "stdout",
     "output_type": "stream",
     "text": [
      "['The Balkans was a region of Romania, Bulgaria, Albania, Greece, Macedonia, Croatia, BosniaHerzegovina, Slovenia, Serbia and Montenegro. A large part of the Balkans was under the control of the Ottoman Empire. The spread of the ideas of romantic nationalism in the Balkans together with the disintegration of the Empire made this region very explosive.']\n"
     ]
    }
   ],
   "source": [
    "summary_bart2 = summarize_bart(data,bart_model,bart_tokenizer)\n",
    "print(summary_bart2)"
   ]
  },
  {
   "cell_type": "code",
   "execution_count": 67,
   "metadata": {},
   "outputs": [
    {
     "name": "stdout",
     "output_type": "stream",
     "text": [
      "The most serious source of nationalist tension in Europe after _____  was the area called the Balkans.\n",
      "What was the balkans?\n",
      "What was a large part of the balkans?\n",
      "What did the spread of the ideas of romantic nationalism in the balkans together with the disintegration of the ottoman empire make ?\n",
      "All through _____ the Ottoman Empire had sought to strengthen itself through modernisation and internal reforms but with very little success.\n",
      "What did one by one , its european subject nationalities break away ?\n",
      "What did the balkan   peoples base ?\n",
      "Why did hence the rebellious nationalities in the balkans think hence ?\n"
     ]
    }
   ],
   "source": [
    "generate_questions(data)"
   ]
  },
  {
   "cell_type": "code",
   "execution_count": 63,
   "metadata": {},
   "outputs": [
    {
     "name": "stdout",
     "output_type": "stream",
     "text": [
      "What was the balkans?\n",
      "What was a large part of the balkans?\n",
      "What did the spread of the ideas of romantic nationalism in the balkans together with the disintegration of the empire make ?\n"
     ]
    }
   ],
   "source": [
    "generate_questions(summary_bart2[0])"
   ]
  }
 ],
 "metadata": {
  "kernelspec": {
   "display_name": "Python 3",
   "language": "python",
   "name": "python3"
  },
  "language_info": {
   "codemirror_mode": {
    "name": "ipython",
    "version": 3
   },
   "file_extension": ".py",
   "mimetype": "text/x-python",
   "name": "python",
   "nbconvert_exporter": "python",
   "pygments_lexer": "ipython3",
   "version": "3.6.9"
  }
 },
 "nbformat": 4,
 "nbformat_minor": 4
}
